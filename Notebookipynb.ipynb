{
 "cells": [
  {
   "cell_type": "code",
   "execution_count": 1,
   "id": "0d684acc",
   "metadata": {
    "_cell_guid": "b1076dfc-b9ad-4769-8c92-a6c4dae69d19",
    "_uuid": "8f2839f25d086af736a60e9eeb907d3b93b6e0e5",
    "execution": {
     "iopub.execute_input": "2024-05-11T12:52:31.592862Z",
     "iopub.status.busy": "2024-05-11T12:52:31.592092Z",
     "iopub.status.idle": "2024-05-11T12:52:35.705845Z",
     "shell.execute_reply": "2024-05-11T12:52:35.704503Z"
    },
    "papermill": {
     "duration": 4.143287,
     "end_time": "2024-05-11T12:52:35.708938",
     "exception": false,
     "start_time": "2024-05-11T12:52:31.565651",
     "status": "completed"
    },
    "tags": []
   },
   "outputs": [],
   "source": [
    "import polars as pl\n",
    "import numpy as np\n",
    "import pandas as pd\n",
    "import lightgbm as lgb\n",
    "from sklearn.model_selection import train_test_split\n",
    "from sklearn.metrics import roc_auc_score \n",
    "import gc\n",
    "\n",
    "dataPath = \"/kaggle/input/home-credit-credit-risk-model-stability/\""
   ]
  },
  {
   "cell_type": "code",
   "execution_count": 2,
   "id": "1198c4e1",
   "metadata": {
    "execution": {
     "iopub.execute_input": "2024-05-11T12:52:35.759066Z",
     "iopub.status.busy": "2024-05-11T12:52:35.758247Z",
     "iopub.status.idle": "2024-05-11T12:52:35.916463Z",
     "shell.execute_reply": "2024-05-11T12:52:35.915307Z"
    },
    "papermill": {
     "duration": 0.186465,
     "end_time": "2024-05-11T12:52:35.918791",
     "exception": false,
     "start_time": "2024-05-11T12:52:35.732326",
     "status": "completed"
    },
    "tags": []
   },
   "outputs": [
    {
     "data": {
      "text/plain": [
       "38"
      ]
     },
     "execution_count": 2,
     "metadata": {},
     "output_type": "execute_result"
    }
   ],
   "source": [
    "gc.collect()"
   ]
  },
  {
   "cell_type": "code",
   "execution_count": 3,
   "id": "88d0d92e",
   "metadata": {
    "execution": {
     "iopub.execute_input": "2024-05-11T12:52:35.967406Z",
     "iopub.status.busy": "2024-05-11T12:52:35.966930Z",
     "iopub.status.idle": "2024-05-11T12:52:35.978650Z",
     "shell.execute_reply": "2024-05-11T12:52:35.977199Z"
    },
    "papermill": {
     "duration": 0.039275,
     "end_time": "2024-05-11T12:52:35.981364",
     "exception": false,
     "start_time": "2024-05-11T12:52:35.942089",
     "status": "completed"
    },
    "tags": []
   },
   "outputs": [],
   "source": [
    "def set_table_dtypes(df: pl.DataFrame) -> pl.DataFrame:\n",
    "    # implement here all desired dtypes for tables\n",
    "    # the following is just an example\n",
    "    for col in df.columns:\n",
    "        # last letter of column name will help you determine the type\n",
    "        if col[-1] in (\"P\", \"A\"):\n",
    "            df = df.with_columns(pl.col(col).cast(pl.Float64).alias(col))\n",
    "        else:\n",
    "            try:\n",
    "                df = df.with_columns(pl.col(col).cast(pl.Float64).alias(col))\n",
    "            except:\n",
    "                continue\n",
    "    return df\n",
    "\n",
    "def convert_strings(df: pd.DataFrame) -> pd.DataFrame:\n",
    "    for col in df.columns:  \n",
    "        if df[col].dtype.name in ['object', 'string']:\n",
    "            df[col] = df[col].astype(\"string\").astype('category')\n",
    "            current_categories = df[col].cat.categories\n",
    "            new_categories = current_categories.to_list() + [\"Unknown\"]\n",
    "            new_dtype = pd.CategoricalDtype(categories=new_categories, ordered=True)\n",
    "            df[col] = df[col].astype(new_dtype)\n",
    "    return df"
   ]
  },
  {
   "cell_type": "code",
   "execution_count": 4,
   "id": "47db8e13",
   "metadata": {
    "execution": {
     "iopub.execute_input": "2024-05-11T12:52:36.030606Z",
     "iopub.status.busy": "2024-05-11T12:52:36.030211Z",
     "iopub.status.idle": "2024-05-11T12:52:36.038834Z",
     "shell.execute_reply": "2024-05-11T12:52:36.037610Z"
    },
    "papermill": {
     "duration": 0.036554,
     "end_time": "2024-05-11T12:52:36.041303",
     "exception": false,
     "start_time": "2024-05-11T12:52:36.004749",
     "status": "completed"
    },
    "tags": []
   },
   "outputs": [],
   "source": [
    "from datetime import datetime\n",
    "def date_encoding(df: pl.DataFrame) -> pl.DataFrame:    \n",
    "    current_date = datetime.now()\n",
    "    for col in df.columns:\n",
    "        if col[-1] == \"D\":\n",
    "            try:\n",
    "    #             df = df.with_columns(\n",
    "    #                 pl.col(col).str.to_datetime(format=\"%Y-%m-%d\").dt.year().cast(pl.Int64)\n",
    "    #             )\n",
    "                df = df.with_columns(\n",
    "                    pl.col(col).str.to_datetime(format=\"%Y-%m-%d\")\n",
    "                )\n",
    "    #             df = df.with_columns(pl.col(col).sub(2024).alias(col))\n",
    "                df = df.with_columns(pl.col(col).sub(current_date).dt.total_days().mul(-1).alias(col))\n",
    "    #             print(df['x'])\n",
    "    #             df = df.with_columns(pl.col(col).cast(pl.Float64).alias(col))\n",
    "            except:\n",
    "                continue\n",
    "    return df"
   ]
  },
  {
   "cell_type": "code",
   "execution_count": 5,
   "id": "b3fe305d",
   "metadata": {
    "execution": {
     "iopub.execute_input": "2024-05-11T12:52:36.090421Z",
     "iopub.status.busy": "2024-05-11T12:52:36.090030Z",
     "iopub.status.idle": "2024-05-11T12:52:36.097965Z",
     "shell.execute_reply": "2024-05-11T12:52:36.096620Z"
    },
    "papermill": {
     "duration": 0.03535,
     "end_time": "2024-05-11T12:52:36.100467",
     "exception": false,
     "start_time": "2024-05-11T12:52:36.065117",
     "status": "completed"
    },
    "tags": []
   },
   "outputs": [],
   "source": [
    "from sklearn.preprocessing import LabelEncoder\n",
    "def label_encoding(df: pl.DataFrame)-> pl.DataFrame:\n",
    "    for col in df.columns:\n",
    "        if str(df[col].dtype) == 'String':\n",
    "            label_encoder = LabelEncoder()\n",
    "#             df = df.with_columns(col, label_encoder.fit_transform(df[col].to_numpy()))\n",
    "            data = label_encoder.fit_transform(df[col].to_numpy())\n",
    "            df = df.with_columns(a = data)\n",
    "            df = df.with_columns(pl.col('a').alias(col))\n",
    "            df = df.drop('a')\n",
    "    return df"
   ]
  },
  {
   "cell_type": "code",
   "execution_count": 6,
   "id": "2f727fd8",
   "metadata": {
    "execution": {
     "iopub.execute_input": "2024-05-11T12:52:36.151272Z",
     "iopub.status.busy": "2024-05-11T12:52:36.150853Z",
     "iopub.status.idle": "2024-05-11T12:52:36.156783Z",
     "shell.execute_reply": "2024-05-11T12:52:36.155580Z"
    },
    "papermill": {
     "duration": 0.032857,
     "end_time": "2024-05-11T12:52:36.159105",
     "exception": false,
     "start_time": "2024-05-11T12:52:36.126248",
     "status": "completed"
    },
    "tags": []
   },
   "outputs": [],
   "source": [
    "# def aggregate(df: pl.DataFrame) -> pl.DataFrame:\n",
    "#     agg_data = None  # Initialize variable to hold aggregated data\n",
    "#     for col in df.columns:\n",
    "#         if col[-1] == 'A':\n",
    "#             if agg_data is None:\n",
    "#                 # If this is the first aggregation, assign it to aggregated_data\n",
    "#                 agg_data = df.group_by('case_id').agg(pl.col(col).sum())\n",
    "#             else:\n",
    "#                 # Otherwise, join the aggregated data with the new aggregation\n",
    "#                 agg_data = agg_data.join(df.group_by('case_id').agg(pl.col(col).sum()), on='case_id')\n",
    "                \n",
    "#         elif col[-1] in ['P', 'D']:\n",
    "#             if agg_data is None:\n",
    "#                 # If this is the first aggregation, assign it to aggregated_data\n",
    "#                 agg_data = df.group_by('case_id').agg(pl.col(col).max())\n",
    "#             else:\n",
    "#                 # Otherwise, join the aggregated data with the new aggregation\n",
    "#                 agg_data = agg_data.join(df.group_by('case_id').agg(pl.col(col).max()), on='case_id')\n",
    "                \n",
    "#         elif col[-1] in ['M', 'T', 'L']:\n",
    "#             if agg_data is None:\n",
    "#                 # If this is the first aggregation, assign it to aggregated_data\n",
    "#                 agg_data = df.group_by('case_id').agg(pl.col(col).mode().max())\n",
    "#             else:\n",
    "#                 # Otherwise, join the aggregated data with the new aggregation\n",
    "#                 agg_data = agg_data.join(df.group_by('case_id').agg(pl.col(col).mode().max()), on='case_id')\n",
    "#         else:\n",
    "#             continue\n",
    "                \n",
    "#     return agg_data"
   ]
  },
  {
   "cell_type": "code",
   "execution_count": 7,
   "id": "869956ff",
   "metadata": {
    "execution": {
     "iopub.execute_input": "2024-05-11T12:52:36.208787Z",
     "iopub.status.busy": "2024-05-11T12:52:36.207942Z",
     "iopub.status.idle": "2024-05-11T12:52:36.229869Z",
     "shell.execute_reply": "2024-05-11T12:52:36.228638Z"
    },
    "papermill": {
     "duration": 0.050357,
     "end_time": "2024-05-11T12:52:36.232816",
     "exception": false,
     "start_time": "2024-05-11T12:52:36.182459",
     "status": "completed"
    },
    "tags": []
   },
   "outputs": [],
   "source": [
    "def aggregate(df: pl.DataFrame) -> pl.DataFrame:\n",
    "    agg_data = None  # Initialize variable to hold aggregated data\n",
    "    for col in df.columns:\n",
    "        if col[-1] == 'A':\n",
    "            if agg_data is None:\n",
    "                # If this is the first aggregation, assign it to aggregated_data\n",
    "                agg_data = df.group_by('case_id').agg(pl.col(col).sum())\n",
    "                agg_data = agg_data.join(df.group_by('case_id').agg(pl.col(col).min().alias(col+'_min')), on='case_id')\n",
    "                agg_data = agg_data.join(df.group_by('case_id').agg(pl.col(col).max().alias(col+'_max')), on='case_id')\n",
    "                agg_data = agg_data.join(df.group_by('case_id').agg(pl.col(col).mean().alias(col+'_mean')), on='case_id')\n",
    "            else:\n",
    "                # Otherwise, join the aggregated data with the new aggregation\n",
    "                agg_data = agg_data.join(df.group_by('case_id').agg(pl.col(col).sum()), on='case_id')\n",
    "                agg_data = agg_data.join(df.group_by('case_id').agg(pl.col(col).min().alias(col+'_min')), on='case_id')\n",
    "                agg_data = agg_data.join(df.group_by('case_id').agg(pl.col(col).max().alias(col+'_max')), on='case_id')\n",
    "                agg_data = agg_data.join(df.group_by('case_id').agg(pl.col(col).mean().alias(col+'_mean')), on='case_id')\n",
    "                \n",
    "        elif col[-1] in ['P', 'D']:\n",
    "            if agg_data is None:\n",
    "                # If this is the first aggregation, assign it to aggregated_data\n",
    "                agg_data = df.group_by('case_id').agg(pl.col(col).max().alias(col+'_max'))\n",
    "                agg_data = agg_data.join(df.group_by('case_id').agg(pl.col(col).min().alias(col+'_min')), on='case_id')\n",
    "                agg_data = agg_data.join(df.group_by('case_id').agg(pl.col(col).mean().alias(col+'_mean')), on='case_id')\n",
    "            else:\n",
    "                # Otherwise, join the aggregated data with the new aggregation\n",
    "                agg_data = agg_data.join(df.group_by('case_id').agg(pl.col(col).max().alias(col+'_max')), on='case_id')\n",
    "                agg_data = agg_data.join(df.group_by('case_id').agg(pl.col(col).min().alias(col+'_min')), on='case_id')\n",
    "                agg_data = agg_data.join(df.group_by('case_id').agg(pl.col(col).mean().alias(col+'_mean')), on='case_id')\n",
    "                \n",
    "        elif col[-1] in ['M', 'T', 'L']:\n",
    "            if agg_data is None:\n",
    "                # If this is the first aggregation, assign it to aggregated_data\n",
    "                agg_data = df.group_by('case_id').agg(pl.col(col).mode().max().alias(col+'_max'))\n",
    "                agg_data = agg_data.join(df.group_by('case_id').agg(pl.col(col).mean().alias(col+'_mean')), on='case_id')\n",
    "            else:\n",
    "                # Otherwise, join the aggregated data with the new aggregation\n",
    "                agg_data = agg_data.join(df.group_by('case_id').agg(pl.col(col).mode().max().alias(col+'_max')), on='case_id')\n",
    "                agg_data = agg_data.join(df.group_by('case_id').agg(pl.col(col).mean().alias(col+'_mean')), on='case_id')\n",
    "        else:\n",
    "            continue\n",
    "                \n",
    "    return agg_data"
   ]
  },
  {
   "cell_type": "code",
   "execution_count": 8,
   "id": "e265a214",
   "metadata": {
    "execution": {
     "iopub.execute_input": "2024-05-11T12:52:36.280889Z",
     "iopub.status.busy": "2024-05-11T12:52:36.280365Z",
     "iopub.status.idle": "2024-05-11T12:52:36.847313Z",
     "shell.execute_reply": "2024-05-11T12:52:36.845671Z"
    },
    "papermill": {
     "duration": 0.595116,
     "end_time": "2024-05-11T12:52:36.851177",
     "exception": false,
     "start_time": "2024-05-11T12:52:36.256061",
     "status": "completed"
    },
    "tags": []
   },
   "outputs": [],
   "source": [
    "train_basetable = pl.read_csv(dataPath + \"csv_files/train/train_base.csv\")\n",
    "train_basetable = train_basetable.rename({'date_decision':'date_decisionD'})"
   ]
  },
  {
   "cell_type": "code",
   "execution_count": 9,
   "id": "1c4e6dd8",
   "metadata": {
    "execution": {
     "iopub.execute_input": "2024-05-11T12:52:36.909413Z",
     "iopub.status.busy": "2024-05-11T12:52:36.908360Z",
     "iopub.status.idle": "2024-05-11T12:52:36.922510Z",
     "shell.execute_reply": "2024-05-11T12:52:36.921484Z"
    },
    "papermill": {
     "duration": 0.042579,
     "end_time": "2024-05-11T12:52:36.925081",
     "exception": false,
     "start_time": "2024-05-11T12:52:36.882502",
     "status": "completed"
    },
    "tags": []
   },
   "outputs": [],
   "source": [
    "test_basetable = pl.read_csv(dataPath + \"csv_files/test/test_base.csv\")\n",
    "test_basetable = test_basetable.rename({'date_decision':'date_decisionD'})"
   ]
  },
  {
   "cell_type": "code",
   "execution_count": 10,
   "id": "5174b0fc",
   "metadata": {
    "execution": {
     "iopub.execute_input": "2024-05-11T12:52:36.974112Z",
     "iopub.status.busy": "2024-05-11T12:52:36.973313Z",
     "iopub.status.idle": "2024-05-11T12:52:37.070035Z",
     "shell.execute_reply": "2024-05-11T12:52:37.068841Z"
    },
    "papermill": {
     "duration": 0.124948,
     "end_time": "2024-05-11T12:52:37.073490",
     "exception": false,
     "start_time": "2024-05-11T12:52:36.948542",
     "status": "completed"
    },
    "tags": []
   },
   "outputs": [],
   "source": [
    "train_basetable = date_encoding(train_basetable)\n",
    "\n",
    "test_basetable = date_encoding(test_basetable)"
   ]
  },
  {
   "cell_type": "code",
   "execution_count": 11,
   "id": "cda5d59d",
   "metadata": {
    "execution": {
     "iopub.execute_input": "2024-05-11T12:52:37.125621Z",
     "iopub.status.busy": "2024-05-11T12:52:37.125216Z",
     "iopub.status.idle": "2024-05-11T12:52:50.467129Z",
     "shell.execute_reply": "2024-05-11T12:52:50.465856Z"
    },
    "papermill": {
     "duration": 13.369314,
     "end_time": "2024-05-11T12:52:50.470113",
     "exception": false,
     "start_time": "2024-05-11T12:52:37.100799",
     "status": "completed"
    },
    "tags": []
   },
   "outputs": [],
   "source": [
    "train_static_0 = pl.concat(\n",
    "    [\n",
    "        pl.read_csv(dataPath + \"csv_files/train/train_static_0_0.csv\").pipe(set_table_dtypes),\n",
    "        pl.read_csv(dataPath + \"csv_files/train/train_static_0_1.csv\").pipe(set_table_dtypes),\n",
    "    ],\n",
    "    how=\"vertical_relaxed\",\n",
    ")\n",
    "\n",
    "train_static_0 = train_static_0.with_columns(pl.col('case_id').cast(pl.Int64, strict=False))\n",
    "\n",
    "test_static_0 = pl.concat(\n",
    "    [\n",
    "        pl.read_csv(dataPath + \"csv_files/test/test_static_0_0.csv\").pipe(set_table_dtypes),\n",
    "        pl.read_csv(dataPath + \"csv_files/test/test_static_0_1.csv\").pipe(set_table_dtypes),\n",
    "        pl.read_csv(dataPath + \"csv_files/test/test_static_0_2.csv\").pipe(set_table_dtypes),\n",
    "\n",
    "    ],\n",
    "    how=\"vertical_relaxed\",\n",
    ")\n",
    "\n",
    "test_static_0 = test_static_0.with_columns(pl.col('case_id').cast(pl.Int64, strict=False))"
   ]
  },
  {
   "cell_type": "code",
   "execution_count": 12,
   "id": "e002f3ef",
   "metadata": {
    "execution": {
     "iopub.execute_input": "2024-05-11T12:52:50.518759Z",
     "iopub.status.busy": "2024-05-11T12:52:50.517907Z",
     "iopub.status.idle": "2024-05-11T12:53:04.211424Z",
     "shell.execute_reply": "2024-05-11T12:53:04.210053Z"
    },
    "papermill": {
     "duration": 13.721402,
     "end_time": "2024-05-11T12:53:04.214597",
     "exception": false,
     "start_time": "2024-05-11T12:52:50.493195",
     "status": "completed"
    },
    "tags": []
   },
   "outputs": [],
   "source": [
    "train_static_0 = date_encoding(train_static_0)\n",
    "train_static_0 = label_encoding(train_static_0)\n",
    "\n",
    "test_static_0 = date_encoding(test_static_0)\n",
    "test_static_0 = label_encoding(test_static_0)"
   ]
  },
  {
   "cell_type": "code",
   "execution_count": 13,
   "id": "027424e0",
   "metadata": {
    "execution": {
     "iopub.execute_input": "2024-05-11T12:53:04.264296Z",
     "iopub.status.busy": "2024-05-11T12:53:04.263405Z",
     "iopub.status.idle": "2024-05-11T12:53:05.775867Z",
     "shell.execute_reply": "2024-05-11T12:53:05.774467Z"
    },
    "papermill": {
     "duration": 1.540078,
     "end_time": "2024-05-11T12:53:05.778512",
     "exception": false,
     "start_time": "2024-05-11T12:53:04.238434",
     "status": "completed"
    },
    "tags": []
   },
   "outputs": [
    {
     "data": {
      "text/plain": [
       "0"
      ]
     },
     "execution_count": 13,
     "metadata": {},
     "output_type": "execute_result"
    }
   ],
   "source": [
    "train_df = train_basetable.join(train_static_0, on=\"case_id\", how=\"left\")\n",
    "del train_basetable\n",
    "del train_static_0\n",
    "\n",
    "test_df = test_basetable.join(test_static_0, on=\"case_id\", how=\"left\")\n",
    "del test_basetable\n",
    "del test_static_0\n",
    "\n",
    "gc.collect()"
   ]
  },
  {
   "cell_type": "code",
   "execution_count": 14,
   "id": "d5fc9161",
   "metadata": {
    "execution": {
     "iopub.execute_input": "2024-05-11T12:53:05.826565Z",
     "iopub.status.busy": "2024-05-11T12:53:05.826198Z",
     "iopub.status.idle": "2024-05-11T12:53:08.042055Z",
     "shell.execute_reply": "2024-05-11T12:53:08.040876Z"
    },
    "papermill": {
     "duration": 2.243688,
     "end_time": "2024-05-11T12:53:08.045457",
     "exception": false,
     "start_time": "2024-05-11T12:53:05.801769",
     "status": "completed"
    },
    "tags": []
   },
   "outputs": [],
   "source": [
    "train_static_cb_0 = pl.read_csv(dataPath + \"csv_files/train/train_static_cb_0.csv\").pipe(set_table_dtypes)\n",
    "train_static_cb_0 = train_static_cb_0.with_columns(pl.col('case_id').cast(pl.Int64, strict=False))\n",
    "\n",
    "test_static_cb_0 = pl.read_csv(dataPath + \"csv_files/test/test_static_cb_0.csv\").pipe(set_table_dtypes)\n",
    "test_static_cb_0 = test_static_cb_0.with_columns(pl.col('case_id').cast(pl.Int64, strict=False))"
   ]
  },
  {
   "cell_type": "code",
   "execution_count": 15,
   "id": "eaa9867f",
   "metadata": {
    "execution": {
     "iopub.execute_input": "2024-05-11T12:53:08.097163Z",
     "iopub.status.busy": "2024-05-11T12:53:08.096684Z",
     "iopub.status.idle": "2024-05-11T12:53:13.037392Z",
     "shell.execute_reply": "2024-05-11T12:53:13.036152Z"
    },
    "papermill": {
     "duration": 4.969807,
     "end_time": "2024-05-11T12:53:13.040703",
     "exception": false,
     "start_time": "2024-05-11T12:53:08.070896",
     "status": "completed"
    },
    "tags": []
   },
   "outputs": [],
   "source": [
    "train_static_cb_0 = date_encoding(train_static_cb_0)\n",
    "train_static_cb_0 = label_encoding(train_static_cb_0)\n",
    "\n",
    "test_static_cb_0 = date_encoding(test_static_cb_0)\n",
    "test_static_cb_0 = label_encoding(test_static_cb_0)"
   ]
  },
  {
   "cell_type": "code",
   "execution_count": 16,
   "id": "7fb9aa92",
   "metadata": {
    "execution": {
     "iopub.execute_input": "2024-05-11T12:53:13.091202Z",
     "iopub.status.busy": "2024-05-11T12:53:13.090381Z",
     "iopub.status.idle": "2024-05-11T12:53:13.924092Z",
     "shell.execute_reply": "2024-05-11T12:53:13.922780Z"
    },
    "papermill": {
     "duration": 0.863097,
     "end_time": "2024-05-11T12:53:13.927760",
     "exception": false,
     "start_time": "2024-05-11T12:53:13.064663",
     "status": "completed"
    },
    "tags": []
   },
   "outputs": [
    {
     "data": {
      "text/plain": [
       "0"
      ]
     },
     "execution_count": 16,
     "metadata": {},
     "output_type": "execute_result"
    }
   ],
   "source": [
    "train_df = train_df.join(train_static_cb_0, on=\"case_id\", how=\"left\")\n",
    "del train_static_cb_0\n",
    "\n",
    "test_df = test_df.join(test_static_cb_0, on=\"case_id\", how=\"left\")\n",
    "del test_static_cb_0\n",
    "\n",
    "gc.collect()"
   ]
  },
  {
   "cell_type": "code",
   "execution_count": 17,
   "id": "f4b23f43",
   "metadata": {
    "execution": {
     "iopub.execute_input": "2024-05-11T12:53:13.978156Z",
     "iopub.status.busy": "2024-05-11T12:53:13.977375Z",
     "iopub.status.idle": "2024-05-11T12:53:27.268954Z",
     "shell.execute_reply": "2024-05-11T12:53:27.267695Z"
    },
    "papermill": {
     "duration": 13.320312,
     "end_time": "2024-05-11T12:53:27.272180",
     "exception": false,
     "start_time": "2024-05-11T12:53:13.951868",
     "status": "completed"
    },
    "tags": []
   },
   "outputs": [],
   "source": [
    "train_applprev_1 = pl.concat(\n",
    "    [\n",
    "        pl.read_csv(dataPath + \"csv_files/train/train_applprev_1_0.csv\").pipe(set_table_dtypes),\n",
    "        pl.read_csv(dataPath + \"csv_files/train/train_applprev_1_1.csv\").pipe(set_table_dtypes),\n",
    "    ],\n",
    "    how=\"vertical_relaxed\",\n",
    ")\n",
    "\n",
    "train_applprev_1 = train_applprev_1.with_columns(pl.col('case_id').cast(pl.Int64, strict=False))\n",
    "\n",
    "test_applprev_1 = pl.concat(\n",
    "    [\n",
    "        pl.read_csv(dataPath + \"csv_files/test/test_applprev_1_0.csv\").pipe(set_table_dtypes),\n",
    "        pl.read_csv(dataPath + \"csv_files/test/test_applprev_1_1.csv\").pipe(set_table_dtypes),\n",
    "        pl.read_csv(dataPath + \"csv_files/test/test_applprev_1_1.csv\").pipe(set_table_dtypes),\n",
    "    ],\n",
    "    how=\"vertical_relaxed\",\n",
    ")\n",
    "\n",
    "test_applprev_1 = test_applprev_1.with_columns(pl.col('case_id').cast(pl.Int64, strict=False))"
   ]
  },
  {
   "cell_type": "code",
   "execution_count": 18,
   "id": "b7ce9686",
   "metadata": {
    "execution": {
     "iopub.execute_input": "2024-05-11T12:53:27.321567Z",
     "iopub.status.busy": "2024-05-11T12:53:27.321069Z",
     "iopub.status.idle": "2024-05-11T12:57:05.317364Z",
     "shell.execute_reply": "2024-05-11T12:57:05.315205Z"
    },
    "papermill": {
     "duration": 218.025597,
     "end_time": "2024-05-11T12:57:05.321616",
     "exception": false,
     "start_time": "2024-05-11T12:53:27.296019",
     "status": "completed"
    },
    "tags": []
   },
   "outputs": [],
   "source": [
    "train_applprev_1 = date_encoding(train_applprev_1)\n",
    "train_applprev_1 = label_encoding(train_applprev_1)\n",
    "train_applprev_1 = aggregate(train_applprev_1)\n",
    "\n",
    "test_applprev_1 = date_encoding(test_applprev_1)\n",
    "test_applprev_1 = label_encoding(test_applprev_1)\n",
    "test_applprev_1 = aggregate(test_applprev_1)"
   ]
  },
  {
   "cell_type": "code",
   "execution_count": 19,
   "id": "6525dcdb",
   "metadata": {
    "execution": {
     "iopub.execute_input": "2024-05-11T12:57:05.376034Z",
     "iopub.status.busy": "2024-05-11T12:57:05.375172Z",
     "iopub.status.idle": "2024-05-11T12:57:08.458381Z",
     "shell.execute_reply": "2024-05-11T12:57:08.456951Z"
    },
    "papermill": {
     "duration": 3.113025,
     "end_time": "2024-05-11T12:57:08.461049",
     "exception": false,
     "start_time": "2024-05-11T12:57:05.348024",
     "status": "completed"
    },
    "tags": []
   },
   "outputs": [
    {
     "data": {
      "text/plain": [
       "0"
      ]
     },
     "execution_count": 19,
     "metadata": {},
     "output_type": "execute_result"
    }
   ],
   "source": [
    "train_df = train_df.join(train_applprev_1, on=\"case_id\", how=\"left\")\n",
    "del train_applprev_1\n",
    "\n",
    "test_df = test_df.join(test_applprev_1, on=\"case_id\", how=\"left\")\n",
    "del test_applprev_1\n",
    "\n",
    "gc.collect()"
   ]
  },
  {
   "cell_type": "code",
   "execution_count": 20,
   "id": "d61513de",
   "metadata": {
    "execution": {
     "iopub.execute_input": "2024-05-11T12:57:08.511168Z",
     "iopub.status.busy": "2024-05-11T12:57:08.510676Z",
     "iopub.status.idle": "2024-05-11T12:57:08.780526Z",
     "shell.execute_reply": "2024-05-11T12:57:08.779326Z"
    },
    "papermill": {
     "duration": 0.29814,
     "end_time": "2024-05-11T12:57:08.783271",
     "exception": false,
     "start_time": "2024-05-11T12:57:08.485131",
     "status": "completed"
    },
    "tags": []
   },
   "outputs": [],
   "source": [
    "train_other_1 = pl.read_csv(dataPath + \"csv_files/train/train_other_1.csv\").pipe(set_table_dtypes)\n",
    "train_other_1 = train_other_1.with_columns(pl.col('case_id').cast(pl.Int64, strict=False))\n",
    "train_other_1 = date_encoding(train_other_1)\n",
    "train_other_1 = label_encoding(train_other_1)\n",
    "train_other_1 = aggregate(train_other_1)\n",
    "\n",
    "test_other_1 = pl.read_csv(dataPath + \"csv_files/test/test_other_1.csv\").pipe(set_table_dtypes)\n",
    "test_other_1 = test_other_1.with_columns(pl.col('case_id').cast(pl.Int64, strict=False))\n",
    "test_other_1 = date_encoding(test_other_1)\n",
    "test_other_1 = label_encoding(test_other_1)\n",
    "test_other_1 = aggregate(test_other_1)"
   ]
  },
  {
   "cell_type": "code",
   "execution_count": 21,
   "id": "2d73a98f",
   "metadata": {
    "execution": {
     "iopub.execute_input": "2024-05-11T12:57:08.834901Z",
     "iopub.status.busy": "2024-05-11T12:57:08.834097Z",
     "iopub.status.idle": "2024-05-11T12:57:09.138547Z",
     "shell.execute_reply": "2024-05-11T12:57:09.137208Z"
    },
    "papermill": {
     "duration": 0.333864,
     "end_time": "2024-05-11T12:57:09.141053",
     "exception": false,
     "start_time": "2024-05-11T12:57:08.807189",
     "status": "completed"
    },
    "tags": []
   },
   "outputs": [
    {
     "data": {
      "text/plain": [
       "0"
      ]
     },
     "execution_count": 21,
     "metadata": {},
     "output_type": "execute_result"
    }
   ],
   "source": [
    "train_df = train_df.join(train_other_1, on=\"case_id\", how=\"left\")\n",
    "del train_other_1\n",
    "\n",
    "test_df = test_df.join(test_other_1, on=\"case_id\", how=\"left\")\n",
    "del test_other_1\n",
    "\n",
    "gc.collect()"
   ]
  },
  {
   "cell_type": "code",
   "execution_count": 22,
   "id": "a788cde8",
   "metadata": {
    "execution": {
     "iopub.execute_input": "2024-05-11T12:57:09.191893Z",
     "iopub.status.busy": "2024-05-11T12:57:09.191451Z",
     "iopub.status.idle": "2024-05-11T12:57:15.199306Z",
     "shell.execute_reply": "2024-05-11T12:57:15.198060Z"
    },
    "papermill": {
     "duration": 6.036779,
     "end_time": "2024-05-11T12:57:15.202379",
     "exception": false,
     "start_time": "2024-05-11T12:57:09.165600",
     "status": "completed"
    },
    "tags": []
   },
   "outputs": [],
   "source": [
    "train_tax_registry_a_1 = pl.read_csv(dataPath + \"csv_files/train/train_tax_registry_a_1.csv\").pipe(set_table_dtypes)\n",
    "train_tax_registry_a_1 = train_tax_registry_a_1.with_columns(pl.col('case_id').cast(pl.Int64, strict=False))\n",
    "train_tax_registry_a_1 = date_encoding(train_tax_registry_a_1)\n",
    "train_tax_registry_a_1 = label_encoding(train_tax_registry_a_1)\n",
    "train_tax_registry_a_1 = aggregate(train_tax_registry_a_1)\n",
    "\n",
    "test_tax_registry_a_1 = pl.read_csv(dataPath + \"csv_files/test/test_tax_registry_a_1.csv\").pipe(set_table_dtypes)\n",
    "test_tax_registry_a_1 = test_tax_registry_a_1.with_columns(pl.col('case_id').cast(pl.Int64, strict=False))\n",
    "test_tax_registry_a_1 = date_encoding(test_tax_registry_a_1)\n",
    "test_tax_registry_a_1 = label_encoding(test_tax_registry_a_1)\n",
    "test_tax_registry_a_1 = aggregate(test_tax_registry_a_1)"
   ]
  },
  {
   "cell_type": "code",
   "execution_count": 23,
   "id": "1b0704eb",
   "metadata": {
    "execution": {
     "iopub.execute_input": "2024-05-11T12:57:15.254671Z",
     "iopub.status.busy": "2024-05-11T12:57:15.253411Z",
     "iopub.status.idle": "2024-05-11T12:57:15.589195Z",
     "shell.execute_reply": "2024-05-11T12:57:15.587961Z"
    },
    "papermill": {
     "duration": 0.364921,
     "end_time": "2024-05-11T12:57:15.591744",
     "exception": false,
     "start_time": "2024-05-11T12:57:15.226823",
     "status": "completed"
    },
    "tags": []
   },
   "outputs": [
    {
     "data": {
      "text/plain": [
       "0"
      ]
     },
     "execution_count": 23,
     "metadata": {},
     "output_type": "execute_result"
    }
   ],
   "source": [
    "train_df = train_df.join(train_tax_registry_a_1, on=\"case_id\", how=\"left\")\n",
    "del train_tax_registry_a_1\n",
    "\n",
    "test_df = test_df.join(test_tax_registry_a_1, on=\"case_id\", how=\"left\")\n",
    "del test_tax_registry_a_1\n",
    "\n",
    "gc.collect()"
   ]
  },
  {
   "cell_type": "code",
   "execution_count": 24,
   "id": "6417ff9e",
   "metadata": {
    "execution": {
     "iopub.execute_input": "2024-05-11T12:57:15.642277Z",
     "iopub.status.busy": "2024-05-11T12:57:15.641561Z",
     "iopub.status.idle": "2024-05-11T12:57:17.481195Z",
     "shell.execute_reply": "2024-05-11T12:57:17.480237Z"
    },
    "papermill": {
     "duration": 1.868123,
     "end_time": "2024-05-11T12:57:17.484287",
     "exception": false,
     "start_time": "2024-05-11T12:57:15.616164",
     "status": "completed"
    },
    "tags": []
   },
   "outputs": [],
   "source": [
    "train_tax_registry_b_1 = pl.read_csv(dataPath + \"csv_files/train/train_tax_registry_b_1.csv\").pipe(set_table_dtypes)\n",
    "train_tax_registry_b_1 = train_tax_registry_b_1.with_columns(pl.col('case_id').cast(pl.Int64, strict=False))\n",
    "train_tax_registry_b_1 = date_encoding(train_tax_registry_b_1)\n",
    "train_tax_registry_b_1 = label_encoding(train_tax_registry_b_1)\n",
    "train_tax_registry_b_1 = aggregate(train_tax_registry_b_1)\n",
    "\n",
    "test_tax_registry_b_1 = pl.read_csv(dataPath + \"csv_files/test/test_tax_registry_b_1.csv\").pipe(set_table_dtypes)\n",
    "test_tax_registry_b_1 = test_tax_registry_b_1.with_columns(pl.col('case_id').cast(pl.Int64, strict=False))\n",
    "test_tax_registry_b_1 = date_encoding(test_tax_registry_b_1)\n",
    "test_tax_registry_b_1 = label_encoding(test_tax_registry_b_1)\n",
    "test_tax_registry_b_1 = aggregate(test_tax_registry_b_1)"
   ]
  },
  {
   "cell_type": "code",
   "execution_count": 25,
   "id": "3f0d9ebd",
   "metadata": {
    "execution": {
     "iopub.execute_input": "2024-05-11T12:57:17.536982Z",
     "iopub.status.busy": "2024-05-11T12:57:17.535464Z",
     "iopub.status.idle": "2024-05-11T12:57:17.761640Z",
     "shell.execute_reply": "2024-05-11T12:57:17.760180Z"
    },
    "papermill": {
     "duration": 0.255311,
     "end_time": "2024-05-11T12:57:17.764557",
     "exception": false,
     "start_time": "2024-05-11T12:57:17.509246",
     "status": "completed"
    },
    "tags": []
   },
   "outputs": [
    {
     "data": {
      "text/plain": [
       "0"
      ]
     },
     "execution_count": 25,
     "metadata": {},
     "output_type": "execute_result"
    }
   ],
   "source": [
    "train_df = train_df.join(train_tax_registry_b_1, on=\"case_id\", how=\"left\")\n",
    "del train_tax_registry_b_1\n",
    "\n",
    "test_df = test_df.join(test_tax_registry_b_1, on=\"case_id\", how=\"left\")\n",
    "del test_tax_registry_b_1\n",
    "\n",
    "gc.collect()"
   ]
  },
  {
   "cell_type": "code",
   "execution_count": 26,
   "id": "c7a3889d",
   "metadata": {
    "execution": {
     "iopub.execute_input": "2024-05-11T12:57:17.815944Z",
     "iopub.status.busy": "2024-05-11T12:57:17.814506Z",
     "iopub.status.idle": "2024-05-11T12:57:23.795040Z",
     "shell.execute_reply": "2024-05-11T12:57:23.793981Z"
    },
    "papermill": {
     "duration": 6.009023,
     "end_time": "2024-05-11T12:57:23.797965",
     "exception": false,
     "start_time": "2024-05-11T12:57:17.788942",
     "status": "completed"
    },
    "tags": []
   },
   "outputs": [],
   "source": [
    "train_tax_registry_c_1 = pl.read_csv(dataPath + \"csv_files/train/train_tax_registry_c_1.csv\").pipe(set_table_dtypes)\n",
    "train_tax_registry_c_1 = train_tax_registry_c_1.with_columns(pl.col('case_id').cast(pl.Int64, strict=False))\n",
    "train_tax_registry_c_1 = date_encoding(train_tax_registry_c_1)\n",
    "train_tax_registry_c_1 = label_encoding(train_tax_registry_c_1)\n",
    "train_tax_registry_c_1 = aggregate(train_tax_registry_c_1)\n",
    "\n",
    "test_tax_registry_c_1 = pl.read_csv(dataPath + \"csv_files/test/test_tax_registry_c_1.csv\").pipe(set_table_dtypes)\n",
    "test_tax_registry_c_1 = test_tax_registry_c_1.with_columns(pl.col('case_id').cast(pl.Int64, strict=False))\n",
    "test_tax_registry_c_1 = date_encoding(test_tax_registry_c_1)\n",
    "test_tax_registry_c_1 = label_encoding(test_tax_registry_c_1)\n",
    "test_tax_registry_c_1 = aggregate(test_tax_registry_c_1)"
   ]
  },
  {
   "cell_type": "code",
   "execution_count": 27,
   "id": "1bc4462b",
   "metadata": {
    "execution": {
     "iopub.execute_input": "2024-05-11T12:57:23.850324Z",
     "iopub.status.busy": "2024-05-11T12:57:23.849434Z",
     "iopub.status.idle": "2024-05-11T12:57:24.200345Z",
     "shell.execute_reply": "2024-05-11T12:57:24.199092Z"
    },
    "papermill": {
     "duration": 0.380152,
     "end_time": "2024-05-11T12:57:24.203318",
     "exception": false,
     "start_time": "2024-05-11T12:57:23.823166",
     "status": "completed"
    },
    "tags": []
   },
   "outputs": [
    {
     "data": {
      "text/plain": [
       "0"
      ]
     },
     "execution_count": 27,
     "metadata": {},
     "output_type": "execute_result"
    }
   ],
   "source": [
    "train_df = train_df.join(train_tax_registry_c_1, on=\"case_id\", how=\"left\")\n",
    "del train_tax_registry_c_1\n",
    "\n",
    "test_df = test_df.join(test_tax_registry_c_1, on=\"case_id\", how=\"left\")\n",
    "del test_tax_registry_c_1\n",
    "\n",
    "gc.collect()"
   ]
  },
  {
   "cell_type": "code",
   "execution_count": 28,
   "id": "649fbbd7",
   "metadata": {
    "execution": {
     "iopub.execute_input": "2024-05-11T12:57:24.255579Z",
     "iopub.status.busy": "2024-05-11T12:57:24.254788Z",
     "iopub.status.idle": "2024-05-11T12:57:28.349310Z",
     "shell.execute_reply": "2024-05-11T12:57:28.348306Z"
    },
    "papermill": {
     "duration": 4.124147,
     "end_time": "2024-05-11T12:57:28.352146",
     "exception": false,
     "start_time": "2024-05-11T12:57:24.227999",
     "status": "completed"
    },
    "tags": []
   },
   "outputs": [],
   "source": [
    "train_credit_bureau_b_1 = pl.read_csv(dataPath + \"csv_files/train/train_credit_bureau_b_1.csv\").pipe(set_table_dtypes)\n",
    "train_credit_bureau_b_1 = train_credit_bureau_b_1.with_columns(pl.col('case_id').cast(pl.Int64, strict=False))\n",
    "train_credit_bureau_b_1 = date_encoding(train_credit_bureau_b_1)\n",
    "train_credit_bureau_b_1 = label_encoding(train_credit_bureau_b_1)\n",
    "train_credit_bureau_b_1 = aggregate(train_credit_bureau_b_1)\n",
    "\n",
    "test_credit_bureau_b_1 = pl.read_csv(dataPath + \"csv_files/test/test_credit_bureau_b_1.csv\").pipe(set_table_dtypes)\n",
    "test_credit_bureau_b_1 = test_credit_bureau_b_1.with_columns(pl.col('case_id').cast(pl.Int64, strict=False))\n",
    "test_credit_bureau_b_1 = date_encoding(test_credit_bureau_b_1)\n",
    "test_credit_bureau_b_1 = label_encoding(test_credit_bureau_b_1)\n",
    "test_credit_bureau_b_1 = aggregate(test_credit_bureau_b_1)"
   ]
  },
  {
   "cell_type": "code",
   "execution_count": 29,
   "id": "bdda8dea",
   "metadata": {
    "execution": {
     "iopub.execute_input": "2024-05-11T12:57:28.403097Z",
     "iopub.status.busy": "2024-05-11T12:57:28.402700Z",
     "iopub.status.idle": "2024-05-11T12:57:29.841917Z",
     "shell.execute_reply": "2024-05-11T12:57:29.840681Z"
    },
    "papermill": {
     "duration": 1.467472,
     "end_time": "2024-05-11T12:57:29.844597",
     "exception": false,
     "start_time": "2024-05-11T12:57:28.377125",
     "status": "completed"
    },
    "tags": []
   },
   "outputs": [
    {
     "data": {
      "text/plain": [
       "0"
      ]
     },
     "execution_count": 29,
     "metadata": {},
     "output_type": "execute_result"
    }
   ],
   "source": [
    "train_df = train_df.join(train_credit_bureau_b_1, on=\"case_id\", how=\"left\")\n",
    "del train_credit_bureau_b_1\n",
    "\n",
    "test_df = test_df.join(test_credit_bureau_b_1, on=\"case_id\", how=\"left\")\n",
    "del test_credit_bureau_b_1\n",
    "\n",
    "gc.collect()"
   ]
  },
  {
   "cell_type": "code",
   "execution_count": 30,
   "id": "a618dc6c",
   "metadata": {
    "execution": {
     "iopub.execute_input": "2024-05-11T12:57:29.897976Z",
     "iopub.status.busy": "2024-05-11T12:57:29.897197Z",
     "iopub.status.idle": "2024-05-11T12:57:29.903016Z",
     "shell.execute_reply": "2024-05-11T12:57:29.902116Z"
    },
    "papermill": {
     "duration": 0.03562,
     "end_time": "2024-05-11T12:57:29.905491",
     "exception": false,
     "start_time": "2024-05-11T12:57:29.869871",
     "status": "completed"
    },
    "tags": []
   },
   "outputs": [],
   "source": [
    "# train_credit_bureau_a_1_0 = pl.read_csv(dataPath + \"csv_files/train/train_credit_bureau_a_1_0.csv\").pipe(set_table_dtypes)\n",
    "# train_credit_bureau_a_1_0 = train_credit_bureau_a_1_0.with_columns(pl.col('case_id').cast(pl.Int64, strict=False))\n",
    "# train_credit_bureau_a_1_0 = date_encoding(train_credit_bureau_a_1_0)\n",
    "# train_credit_bureau_a_1_0 = label_encoding(train_credit_bureau_a_1_0)\n",
    "# train_credit_bureau_a_1_0 = aggregate(train_credit_bureau_a_1_0)\n",
    "# #\n",
    "# test_credit_bureau_a_1_0 = pl.read_csv(dataPath + \"csv_files/test/test_credit_bureau_a_1_0.csv\").pipe(set_table_dtypes)\n",
    "# test_credit_bureau_a_1_0 = test_credit_bureau_a_1_0.with_columns(pl.col('case_id').cast(pl.Int64, strict=False))\n",
    "# test_credit_bureau_a_1_0 = date_encoding(test_credit_bureau_a_1_0)\n",
    "# test_credit_bureau_a_1_0 = label_encoding(test_credit_bureau_a_1_0)\n",
    "# test_credit_bureau_a_1_0 = aggregate(test_credit_bureau_a_1_0)"
   ]
  },
  {
   "cell_type": "code",
   "execution_count": 31,
   "id": "9b28e475",
   "metadata": {
    "execution": {
     "iopub.execute_input": "2024-05-11T12:57:29.959547Z",
     "iopub.status.busy": "2024-05-11T12:57:29.958808Z",
     "iopub.status.idle": "2024-05-11T12:57:29.964372Z",
     "shell.execute_reply": "2024-05-11T12:57:29.963545Z"
    },
    "papermill": {
     "duration": 0.034832,
     "end_time": "2024-05-11T12:57:29.966527",
     "exception": false,
     "start_time": "2024-05-11T12:57:29.931695",
     "status": "completed"
    },
    "tags": []
   },
   "outputs": [],
   "source": [
    "# train_credit_bureau_a_1_1 = pl.read_csv(dataPath + \"csv_files/train/train_credit_bureau_a_1_1.csv\").pipe(set_table_dtypes)\n",
    "# train_credit_bureau_a_1_1 = train_credit_bureau_a_1_1.with_columns(pl.col('case_id').cast(pl.Int64, strict=False))\n",
    "# train_credit_bureau_a_1_1 = date_encoding(train_credit_bureau_a_1_1)\n",
    "# train_credit_bureau_a_1_1 = label_encoding(train_credit_bureau_a_1_1)\n",
    "# train_credit_bureau_a_1_1 = aggregate(train_credit_bureau_a_1_1)\n",
    "\n",
    "# test_credit_bureau_a_1_1 = pl.read_csv(dataPath + \"csv_files/test/test_credit_bureau_a_1_1.csv\").pipe(set_table_dtypes)\n",
    "# test_credit_bureau_a_1_1 = test_credit_bureau_a_1_1.with_columns(pl.col('case_id').cast(pl.Int64, strict=False))\n",
    "# test_credit_bureau_a_1_1 = date_encoding(test_credit_bureau_a_1_1)\n",
    "# test_credit_bureau_a_1_1 = label_encoding(test_credit_bureau_a_1_1)\n",
    "# test_credit_bureau_a_1_1 = aggregate(test_credit_bureau_a_1_1)"
   ]
  },
  {
   "cell_type": "code",
   "execution_count": 32,
   "id": "7f079c09",
   "metadata": {
    "execution": {
     "iopub.execute_input": "2024-05-11T12:57:30.018874Z",
     "iopub.status.busy": "2024-05-11T12:57:30.018005Z",
     "iopub.status.idle": "2024-05-11T12:57:30.023122Z",
     "shell.execute_reply": "2024-05-11T12:57:30.022294Z"
    },
    "papermill": {
     "duration": 0.034251,
     "end_time": "2024-05-11T12:57:30.025358",
     "exception": false,
     "start_time": "2024-05-11T12:57:29.991107",
     "status": "completed"
    },
    "tags": []
   },
   "outputs": [],
   "source": [
    "# train_credit_bureau_a_1_2 = pl.read_csv(dataPath + \"csv_files/train/train_credit_bureau_a_1_2.csv\").pipe(set_table_dtypes)\n",
    "# train_credit_bureau_a_1_2 = train_credit_bureau_a_1_2.with_columns(pl.col('case_id').cast(pl.Int64, strict=False))\n",
    "# train_credit_bureau_a_1_2 = date_encoding(train_credit_bureau_a_1_2)\n",
    "# train_credit_bureau_a_1_2 = label_encoding(train_credit_bureau_a_1_2)\n",
    "# train_credit_bureau_a_1_2 = aggregate(train_credit_bureau_a_1_2)\n",
    "\n",
    "# test_credit_bureau_a_1_2 = pl.read_csv(dataPath + \"csv_files/test/test_credit_bureau_a_1_2.csv\").pipe(set_table_dtypes)\n",
    "# test_credit_bureau_a_1_2 = test_credit_bureau_a_1_2.with_columns(pl.col('case_id').cast(pl.Int64, strict=False))\n",
    "# test_credit_bureau_a_1_2 = date_encoding(test_credit_bureau_a_1_2)\n",
    "# test_credit_bureau_a_1_2 = label_encoding(test_credit_bureau_a_1_2)\n",
    "# test_credit_bureau_a_1_2 = aggregate(test_credit_bureau_a_1_2)"
   ]
  },
  {
   "cell_type": "code",
   "execution_count": 33,
   "id": "edc07bf5",
   "metadata": {
    "execution": {
     "iopub.execute_input": "2024-05-11T12:57:30.076727Z",
     "iopub.status.busy": "2024-05-11T12:57:30.075926Z",
     "iopub.status.idle": "2024-05-11T12:57:30.081275Z",
     "shell.execute_reply": "2024-05-11T12:57:30.080273Z"
    },
    "papermill": {
     "duration": 0.033724,
     "end_time": "2024-05-11T12:57:30.083609",
     "exception": false,
     "start_time": "2024-05-11T12:57:30.049885",
     "status": "completed"
    },
    "tags": []
   },
   "outputs": [],
   "source": [
    "# train_credit_bureau_a_1_3 = pl.read_csv(dataPath + \"csv_files/train/train_credit_bureau_a_1_3.csv\").pipe(set_table_dtypes)\n",
    "# train_credit_bureau_a_1_3 = train_credit_bureau_a_1_3.with_columns(pl.col('case_id').cast(pl.Int64, strict=False))\n",
    "# train_credit_bureau_a_1_3 = date_encoding(train_credit_bureau_a_1_3)\n",
    "# train_credit_bureau_a_1_3 = label_encoding(train_credit_bureau_a_1_3)\n",
    "# train_credit_bureau_a_1_3 = aggregate(train_credit_bureau_a_1_3)\n",
    "\n",
    "# test_credit_bureau_a_1_3 = pl.read_csv(dataPath + \"csv_files/test/test_credit_bureau_a_1_3.csv\").pipe(set_table_dtypes)\n",
    "# test_credit_bureau_a_1_3 = test_credit_bureau_a_1_3.with_columns(pl.col('case_id').cast(pl.Int64, strict=False))\n",
    "# test_credit_bureau_a_1_3 = date_encoding(test_credit_bureau_a_1_3)\n",
    "# test_credit_bureau_a_1_3 = label_encoding(test_credit_bureau_a_1_3)\n",
    "# test_credit_bureau_a_1_3 = aggregate(test_credit_bureau_a_1_3)"
   ]
  },
  {
   "cell_type": "code",
   "execution_count": 34,
   "id": "e552aff1",
   "metadata": {
    "execution": {
     "iopub.execute_input": "2024-05-11T12:57:30.134967Z",
     "iopub.status.busy": "2024-05-11T12:57:30.134147Z",
     "iopub.status.idle": "2024-05-11T12:57:30.139704Z",
     "shell.execute_reply": "2024-05-11T12:57:30.138399Z"
    },
    "papermill": {
     "duration": 0.034622,
     "end_time": "2024-05-11T12:57:30.142689",
     "exception": false,
     "start_time": "2024-05-11T12:57:30.108067",
     "status": "completed"
    },
    "tags": []
   },
   "outputs": [],
   "source": [
    "# train_credit_bureau_a_1 = pl.concat([train_credit_bureau_a_1_0,train_credit_bureau_a_1_1,train_credit_bureau_a_1_2,train_credit_bureau_a_1_3])\n",
    "\n",
    "# test_credit_bureau_a_1 = pl.concat([test_credit_bureau_a_1_0,test_credit_bureau_a_1_1,test_credit_bureau_a_1_2,test_credit_bureau_a_1_3])"
   ]
  },
  {
   "cell_type": "code",
   "execution_count": 35,
   "id": "21849f77",
   "metadata": {
    "execution": {
     "iopub.execute_input": "2024-05-11T12:57:30.193751Z",
     "iopub.status.busy": "2024-05-11T12:57:30.193059Z",
     "iopub.status.idle": "2024-05-11T12:57:30.200031Z",
     "shell.execute_reply": "2024-05-11T12:57:30.198734Z"
    },
    "papermill": {
     "duration": 0.035711,
     "end_time": "2024-05-11T12:57:30.202819",
     "exception": false,
     "start_time": "2024-05-11T12:57:30.167108",
     "status": "completed"
    },
    "tags": []
   },
   "outputs": [],
   "source": [
    "# train_df = train_df.join(train_credit_bureau_a_1, on=\"case_id\", how=\"left\")\n",
    "# del train_credit_bureau_a_1\n",
    "# del train_credit_bureau_a_1_0\n",
    "# del train_credit_bureau_a_1_1\n",
    "# del train_credit_bureau_a_1_2\n",
    "# del train_credit_bureau_a_1_3\n",
    "# gc.collect()"
   ]
  },
  {
   "cell_type": "code",
   "execution_count": 36,
   "id": "2368c65b",
   "metadata": {
    "execution": {
     "iopub.execute_input": "2024-05-11T12:57:30.255407Z",
     "iopub.status.busy": "2024-05-11T12:57:30.254922Z",
     "iopub.status.idle": "2024-05-11T12:57:30.260508Z",
     "shell.execute_reply": "2024-05-11T12:57:30.259296Z"
    },
    "papermill": {
     "duration": 0.034301,
     "end_time": "2024-05-11T12:57:30.263086",
     "exception": false,
     "start_time": "2024-05-11T12:57:30.228785",
     "status": "completed"
    },
    "tags": []
   },
   "outputs": [],
   "source": [
    "# test_df = test_df.join(test_credit_bureau_a_1, on=\"case_id\", how=\"left\")\n",
    "# del test_credit_bureau_a_1\n",
    "# del test_credit_bureau_a_1_0\n",
    "# del test_credit_bureau_a_1_1\n",
    "# del test_credit_bureau_a_1_2\n",
    "# del test_credit_bureau_a_1_3\n",
    "# gc.collect()"
   ]
  },
  {
   "cell_type": "code",
   "execution_count": 37,
   "id": "0f196428",
   "metadata": {
    "execution": {
     "iopub.execute_input": "2024-05-11T12:57:30.315651Z",
     "iopub.status.busy": "2024-05-11T12:57:30.315122Z",
     "iopub.status.idle": "2024-05-11T12:57:30.598740Z",
     "shell.execute_reply": "2024-05-11T12:57:30.597703Z"
    },
    "papermill": {
     "duration": 0.31356,
     "end_time": "2024-05-11T12:57:30.601679",
     "exception": false,
     "start_time": "2024-05-11T12:57:30.288119",
     "status": "completed"
    },
    "tags": []
   },
   "outputs": [],
   "source": [
    "train_deposit_1 = pl.read_csv(dataPath + \"csv_files/train/train_deposit_1.csv\").pipe(set_table_dtypes)\n",
    "train_deposit_1 = train_deposit_1.with_columns(pl.col('case_id').cast(pl.Int64, strict=False))\n",
    "train_deposit_1 = date_encoding(train_deposit_1)\n",
    "train_deposit_1 = label_encoding(train_deposit_1)\n",
    "train_deposit_1 = aggregate(train_deposit_1)\n",
    "\n",
    "test_deposit_1 = pl.read_csv(dataPath + \"csv_files/test/test_deposit_1.csv\").pipe(set_table_dtypes)\n",
    "test_deposit_1 = test_deposit_1.with_columns(pl.col('case_id').cast(pl.Int64, strict=False))\n",
    "test_deposit_1 = date_encoding(test_deposit_1)\n",
    "test_deposit_1 = label_encoding(test_deposit_1)\n",
    "test_deposit_1 = aggregate(test_deposit_1)"
   ]
  },
  {
   "cell_type": "code",
   "execution_count": 38,
   "id": "1067f6ca",
   "metadata": {
    "execution": {
     "iopub.execute_input": "2024-05-11T12:57:30.654401Z",
     "iopub.status.busy": "2024-05-11T12:57:30.653215Z",
     "iopub.status.idle": "2024-05-11T12:57:30.977811Z",
     "shell.execute_reply": "2024-05-11T12:57:30.976112Z"
    },
    "papermill": {
     "duration": 0.354182,
     "end_time": "2024-05-11T12:57:30.980982",
     "exception": false,
     "start_time": "2024-05-11T12:57:30.626800",
     "status": "completed"
    },
    "tags": []
   },
   "outputs": [
    {
     "data": {
      "text/plain": [
       "0"
      ]
     },
     "execution_count": 38,
     "metadata": {},
     "output_type": "execute_result"
    }
   ],
   "source": [
    "train_df = train_df.join(train_deposit_1, on=\"case_id\", how=\"left\")\n",
    "del train_deposit_1\n",
    "\n",
    "test_df = test_df.join(test_deposit_1, on=\"case_id\", how=\"left\")\n",
    "del test_deposit_1\n",
    "\n",
    "gc.collect()"
   ]
  },
  {
   "cell_type": "code",
   "execution_count": 39,
   "id": "7696c523",
   "metadata": {
    "execution": {
     "iopub.execute_input": "2024-05-11T12:57:31.034048Z",
     "iopub.status.busy": "2024-05-11T12:57:31.033646Z",
     "iopub.status.idle": "2024-05-11T13:00:21.750380Z",
     "shell.execute_reply": "2024-05-11T13:00:21.749262Z"
    },
    "papermill": {
     "duration": 170.746758,
     "end_time": "2024-05-11T13:00:21.753314",
     "exception": false,
     "start_time": "2024-05-11T12:57:31.006556",
     "status": "completed"
    },
    "tags": []
   },
   "outputs": [],
   "source": [
    "train_person_1 = pl.read_csv(dataPath + \"csv_files/train/train_person_1.csv\").pipe(set_table_dtypes)\n",
    "train_person_1 = train_person_1.with_columns(pl.col('case_id').cast(pl.Int64, strict=False))\n",
    "train_person_1 = date_encoding(train_person_1)\n",
    "train_person_1 = label_encoding(train_person_1)\n",
    "train_person_1 = aggregate(train_person_1)\n",
    "\n",
    "test_person_1 = pl.read_csv(dataPath + \"csv_files/test/test_person_1.csv\").pipe(set_table_dtypes)\n",
    "test_person_1 = test_person_1.with_columns(pl.col('case_id').cast(pl.Int64, strict=False))\n",
    "test_person_1 = date_encoding(test_person_1)\n",
    "test_person_1 = label_encoding(test_person_1)\n",
    "test_person_1 = aggregate(test_person_1)"
   ]
  },
  {
   "cell_type": "code",
   "execution_count": 40,
   "id": "5991664f",
   "metadata": {
    "execution": {
     "iopub.execute_input": "2024-05-11T13:00:21.806001Z",
     "iopub.status.busy": "2024-05-11T13:00:21.804735Z",
     "iopub.status.idle": "2024-05-11T13:00:23.408815Z",
     "shell.execute_reply": "2024-05-11T13:00:23.407553Z"
    },
    "papermill": {
     "duration": 1.632875,
     "end_time": "2024-05-11T13:00:23.411264",
     "exception": false,
     "start_time": "2024-05-11T13:00:21.778389",
     "status": "completed"
    },
    "tags": []
   },
   "outputs": [
    {
     "data": {
      "text/plain": [
       "0"
      ]
     },
     "execution_count": 40,
     "metadata": {},
     "output_type": "execute_result"
    }
   ],
   "source": [
    "train_df = train_df.join(train_person_1, on=\"case_id\", how=\"left\")\n",
    "del train_person_1\n",
    "\n",
    "test_df = test_df.join(test_person_1, on=\"case_id\", how=\"left\")\n",
    "del test_person_1\n",
    "\n",
    "gc.collect()"
   ]
  },
  {
   "cell_type": "code",
   "execution_count": 41,
   "id": "7ca489ca",
   "metadata": {
    "execution": {
     "iopub.execute_input": "2024-05-11T13:00:23.463003Z",
     "iopub.status.busy": "2024-05-11T13:00:23.462277Z",
     "iopub.status.idle": "2024-05-11T13:00:23.898598Z",
     "shell.execute_reply": "2024-05-11T13:00:23.897243Z"
    },
    "papermill": {
     "duration": 0.466216,
     "end_time": "2024-05-11T13:00:23.901937",
     "exception": false,
     "start_time": "2024-05-11T13:00:23.435721",
     "status": "completed"
    },
    "tags": []
   },
   "outputs": [],
   "source": [
    "train_debitcard_1 = pl.read_csv(dataPath + \"csv_files/train/train_debitcard_1.csv\").pipe(set_table_dtypes)\n",
    "train_debitcard_1 = train_debitcard_1.with_columns(pl.col('case_id').cast(pl.Int64, strict=False))\n",
    "train_debitcard_1 = date_encoding(train_debitcard_1)\n",
    "train_debitcard_1 = label_encoding(train_debitcard_1)\n",
    "train_debitcard_1 = aggregate(train_debitcard_1)\n",
    "\n",
    "test_debitcard_1 = pl.read_csv(dataPath + \"csv_files/test/test_debitcard_1.csv\").pipe(set_table_dtypes)\n",
    "test_debitcard_1 = test_debitcard_1.with_columns(pl.col('case_id').cast(pl.Int64, strict=False))\n",
    "test_debitcard_1 = date_encoding(test_debitcard_1)\n",
    "test_debitcard_1 = label_encoding(test_debitcard_1)\n",
    "test_debitcard_1 = aggregate(test_debitcard_1)"
   ]
  },
  {
   "cell_type": "code",
   "execution_count": 42,
   "id": "aa4575a0",
   "metadata": {
    "execution": {
     "iopub.execute_input": "2024-05-11T13:00:23.954324Z",
     "iopub.status.busy": "2024-05-11T13:00:23.953863Z",
     "iopub.status.idle": "2024-05-11T13:00:24.247494Z",
     "shell.execute_reply": "2024-05-11T13:00:24.244593Z"
    },
    "papermill": {
     "duration": 0.323383,
     "end_time": "2024-05-11T13:00:24.250837",
     "exception": false,
     "start_time": "2024-05-11T13:00:23.927454",
     "status": "completed"
    },
    "tags": []
   },
   "outputs": [
    {
     "data": {
      "text/plain": [
       "0"
      ]
     },
     "execution_count": 42,
     "metadata": {},
     "output_type": "execute_result"
    }
   ],
   "source": [
    "train_df = train_df.join(train_debitcard_1, on=\"case_id\", how=\"left\")\n",
    "del train_debitcard_1\n",
    "\n",
    "test_df = test_df.join(test_debitcard_1, on=\"case_id\", how=\"left\")\n",
    "del test_debitcard_1\n",
    "\n",
    "gc.collect()"
   ]
  },
  {
   "cell_type": "code",
   "execution_count": 43,
   "id": "e63a472f",
   "metadata": {
    "execution": {
     "iopub.execute_input": "2024-05-11T13:00:24.304993Z",
     "iopub.status.busy": "2024-05-11T13:00:24.304318Z",
     "iopub.status.idle": "2024-05-11T13:00:56.817822Z",
     "shell.execute_reply": "2024-05-11T13:00:56.816261Z"
    },
    "papermill": {
     "duration": 32.545333,
     "end_time": "2024-05-11T13:00:56.821924",
     "exception": false,
     "start_time": "2024-05-11T13:00:24.276591",
     "status": "completed"
    },
    "tags": []
   },
   "outputs": [],
   "source": [
    "train_applprev_2 = pl.read_csv(dataPath + \"csv_files/train/train_applprev_2.csv\").pipe(set_table_dtypes)\n",
    "train_applprev_2 = train_applprev_2.with_columns(pl.col('case_id').cast(pl.Int64, strict=False))\n",
    "train_applprev_2 = date_encoding(train_applprev_2)\n",
    "train_applprev_2 = label_encoding(train_applprev_2)\n",
    "train_applprev_2 = aggregate(train_applprev_2)\n",
    "\n",
    "test_applprev_2 = pl.read_csv(dataPath + \"csv_files/test/test_applprev_2.csv\").pipe(set_table_dtypes)\n",
    "test_applprev_2 = test_applprev_2.with_columns(pl.col('case_id').cast(pl.Int64, strict=False))\n",
    "test_applprev_2 = date_encoding(test_applprev_2)\n",
    "test_applprev_2 = label_encoding(test_applprev_2)\n",
    "test_applprev_2 = aggregate(test_applprev_2)"
   ]
  },
  {
   "cell_type": "code",
   "execution_count": 44,
   "id": "dc6a8a92",
   "metadata": {
    "execution": {
     "iopub.execute_input": "2024-05-11T13:00:56.881426Z",
     "iopub.status.busy": "2024-05-11T13:00:56.880812Z",
     "iopub.status.idle": "2024-05-11T13:00:57.366309Z",
     "shell.execute_reply": "2024-05-11T13:00:57.365056Z"
    },
    "papermill": {
     "duration": 0.516977,
     "end_time": "2024-05-11T13:00:57.369475",
     "exception": false,
     "start_time": "2024-05-11T13:00:56.852498",
     "status": "completed"
    },
    "tags": []
   },
   "outputs": [
    {
     "data": {
      "text/plain": [
       "0"
      ]
     },
     "execution_count": 44,
     "metadata": {},
     "output_type": "execute_result"
    }
   ],
   "source": [
    "train_df = train_df.join(train_applprev_2, on=\"case_id\", how=\"left\")\n",
    "del train_applprev_2\n",
    "\n",
    "test_df = test_df.join(test_applprev_2, on=\"case_id\", how=\"left\")\n",
    "del test_applprev_2\n",
    "\n",
    "gc.collect()"
   ]
  },
  {
   "cell_type": "code",
   "execution_count": 45,
   "id": "71ba1f30",
   "metadata": {
    "execution": {
     "iopub.execute_input": "2024-05-11T13:00:57.422584Z",
     "iopub.status.busy": "2024-05-11T13:00:57.421964Z",
     "iopub.status.idle": "2024-05-11T13:01:24.060665Z",
     "shell.execute_reply": "2024-05-11T13:01:24.059709Z"
    },
    "papermill": {
     "duration": 26.668202,
     "end_time": "2024-05-11T13:01:24.063739",
     "exception": false,
     "start_time": "2024-05-11T13:00:57.395537",
     "status": "completed"
    },
    "tags": []
   },
   "outputs": [],
   "source": [
    "train_person_2 = pl.read_csv(dataPath + \"csv_files/train/train_person_2.csv\").pipe(set_table_dtypes)\n",
    "train_person_2 = train_person_2.with_columns(pl.col('case_id').cast(pl.Int64, strict=False))\n",
    "train_person_2 = date_encoding(train_person_2)\n",
    "train_person_2 = label_encoding(train_person_2)\n",
    "train_person_2 = aggregate(train_person_2)\n",
    "\n",
    "test_person_2 = pl.read_csv(dataPath + \"csv_files/test/test_person_2.csv\").pipe(set_table_dtypes)\n",
    "test_person_2 = test_person_2.with_columns(pl.col('case_id').cast(pl.Int64, strict=False))\n",
    "test_person_2 = date_encoding(test_person_2)\n",
    "test_person_2 = label_encoding(test_person_2)\n",
    "test_person_2 = aggregate(test_person_2)"
   ]
  },
  {
   "cell_type": "code",
   "execution_count": 46,
   "id": "c584cbce",
   "metadata": {
    "execution": {
     "iopub.execute_input": "2024-05-11T13:01:24.119532Z",
     "iopub.status.busy": "2024-05-11T13:01:24.118906Z",
     "iopub.status.idle": "2024-05-11T13:01:24.889359Z",
     "shell.execute_reply": "2024-05-11T13:01:24.888039Z"
    },
    "papermill": {
     "duration": 0.800439,
     "end_time": "2024-05-11T13:01:24.891899",
     "exception": false,
     "start_time": "2024-05-11T13:01:24.091460",
     "status": "completed"
    },
    "tags": []
   },
   "outputs": [
    {
     "data": {
      "text/plain": [
       "0"
      ]
     },
     "execution_count": 46,
     "metadata": {},
     "output_type": "execute_result"
    }
   ],
   "source": [
    "train_df = train_df.join(train_person_2, on=\"case_id\", how=\"left\")\n",
    "del train_person_2\n",
    "\n",
    "test_df = test_df.join(test_person_2, on=\"case_id\", how=\"left\")\n",
    "del test_person_2\n",
    "\n",
    "gc.collect()"
   ]
  },
  {
   "cell_type": "code",
   "execution_count": 47,
   "id": "5e9c866a",
   "metadata": {
    "execution": {
     "iopub.execute_input": "2024-05-11T13:01:24.943842Z",
     "iopub.status.busy": "2024-05-11T13:01:24.943329Z",
     "iopub.status.idle": "2024-05-11T13:01:25.926955Z",
     "shell.execute_reply": "2024-05-11T13:01:25.925531Z"
    },
    "papermill": {
     "duration": 1.013496,
     "end_time": "2024-05-11T13:01:25.930242",
     "exception": false,
     "start_time": "2024-05-11T13:01:24.916746",
     "status": "completed"
    },
    "tags": []
   },
   "outputs": [],
   "source": [
    "train_credit_bureau_b_2 = pl.read_csv(dataPath + \"csv_files/train/train_credit_bureau_b_2.csv\").pipe(set_table_dtypes)\n",
    "train_credit_bureau_b_2 = train_credit_bureau_b_2.with_columns(pl.col('case_id').cast(pl.Int64, strict=False))\n",
    "train_credit_bureau_b_2 = date_encoding(train_credit_bureau_b_2)\n",
    "train_credit_bureau_b_2 = label_encoding(train_credit_bureau_b_2)\n",
    "train_credit_bureau_b_2 = aggregate(train_credit_bureau_b_2)\n",
    "\n",
    "test_credit_bureau_b_2 = pl.read_csv(dataPath + \"csv_files/test/test_credit_bureau_b_2.csv\").pipe(set_table_dtypes)\n",
    "test_credit_bureau_b_2 = test_credit_bureau_b_2.with_columns(pl.col('case_id').cast(pl.Int64, strict=False))\n",
    "test_credit_bureau_b_2 = date_encoding(test_credit_bureau_b_2)\n",
    "test_credit_bureau_b_2 = label_encoding(test_credit_bureau_b_2)\n",
    "test_credit_bureau_b_2 = aggregate(test_credit_bureau_b_2)"
   ]
  },
  {
   "cell_type": "code",
   "execution_count": 48,
   "id": "6cf25a4a",
   "metadata": {
    "execution": {
     "iopub.execute_input": "2024-05-11T13:01:25.984362Z",
     "iopub.status.busy": "2024-05-11T13:01:25.983914Z",
     "iopub.status.idle": "2024-05-11T13:01:26.201189Z",
     "shell.execute_reply": "2024-05-11T13:01:26.199823Z"
    },
    "papermill": {
     "duration": 0.24759,
     "end_time": "2024-05-11T13:01:26.203801",
     "exception": false,
     "start_time": "2024-05-11T13:01:25.956211",
     "status": "completed"
    },
    "tags": []
   },
   "outputs": [
    {
     "data": {
      "text/plain": [
       "0"
      ]
     },
     "execution_count": 48,
     "metadata": {},
     "output_type": "execute_result"
    }
   ],
   "source": [
    "train_df = train_df.join(train_credit_bureau_b_2, on=\"case_id\", how=\"left\")\n",
    "del train_credit_bureau_b_2\n",
    "\n",
    "test_df = test_df.join(test_credit_bureau_b_2, on=\"case_id\", how=\"left\")\n",
    "del test_credit_bureau_b_2\n",
    "\n",
    "gc.collect()"
   ]
  },
  {
   "cell_type": "code",
   "execution_count": 49,
   "id": "353da04e",
   "metadata": {
    "execution": {
     "iopub.execute_input": "2024-05-11T13:01:26.257550Z",
     "iopub.status.busy": "2024-05-11T13:01:26.256450Z",
     "iopub.status.idle": "2024-05-11T13:01:26.262494Z",
     "shell.execute_reply": "2024-05-11T13:01:26.261226Z"
    },
    "papermill": {
     "duration": 0.035367,
     "end_time": "2024-05-11T13:01:26.265064",
     "exception": false,
     "start_time": "2024-05-11T13:01:26.229697",
     "status": "completed"
    },
    "tags": []
   },
   "outputs": [],
   "source": [
    "# train_df = train_basetable.join(train_static_0, on=\"case_id\", how=\"left\").join(train_static_cb_0, on=\"case_id\", how=\"left\").join(train_applprev_1, on=\"case_id\", how=\"left\").join(train_other_1, on=\"case_id\", how=\"left\").join(train_tax_registry_a_1, on=\"case_id\", how=\"left\").join(train_tax_registry_b_1, on=\"case_id\", how=\"left\").join(train_tax_registry_c_1, on=\"case_id\", how=\"left\").join(train_credit_bureau_b_1, on=\"case_id\", how=\"left\").join(train_deposit_1, on=\"case_id\", how=\"left\").join(train_person_1, on=\"case_id\", how=\"left\").join(train_debitcard_1, on=\"case_id\", how=\"left\")\n",
    "\n",
    "# test_df = test_basetable.join(test_static_0, on=\"case_id\", how=\"left\").join(test_static_cb_0, on=\"case_id\", how=\"left\").join(test_applprev_1, on=\"case_id\", how=\"left\").join(test_other_1, on=\"case_id\", how=\"left\").join(test_tax_registry_a_1, on=\"case_id\", how=\"left\").join(test_tax_registry_b_1, on=\"case_id\", how=\"left\").join(test_tax_registry_c_1, on=\"case_id\", how=\"left\").join(test_credit_bureau_b_1, on=\"case_id\", how=\"left\").join(test_deposit_1, on=\"case_id\", how=\"left\").join(test_person_1, on=\"case_id\", how=\"left\").join(test_debitcard_1, on=\"case_id\", how=\"left\")"
   ]
  },
  {
   "cell_type": "code",
   "execution_count": 50,
   "id": "5f9ffdfb",
   "metadata": {
    "execution": {
     "iopub.execute_input": "2024-05-11T13:01:26.317645Z",
     "iopub.status.busy": "2024-05-11T13:01:26.317217Z",
     "iopub.status.idle": "2024-05-11T13:01:31.438162Z",
     "shell.execute_reply": "2024-05-11T13:01:31.436739Z"
    },
    "papermill": {
     "duration": 5.150053,
     "end_time": "2024-05-11T13:01:31.440881",
     "exception": false,
     "start_time": "2024-05-11T13:01:26.290828",
     "status": "completed"
    },
    "tags": []
   },
   "outputs": [],
   "source": [
    "train_df = train_df.fill_null(-1)\n",
    "\n",
    "test_df = test_df.fill_null(-1)"
   ]
  },
  {
   "cell_type": "code",
   "execution_count": 51,
   "id": "1d4d0762",
   "metadata": {
    "execution": {
     "iopub.execute_input": "2024-05-11T13:01:31.493829Z",
     "iopub.status.busy": "2024-05-11T13:01:31.493180Z",
     "iopub.status.idle": "2024-05-11T13:01:31.734232Z",
     "shell.execute_reply": "2024-05-11T13:01:31.733241Z"
    },
    "papermill": {
     "duration": 0.270732,
     "end_time": "2024-05-11T13:01:31.737017",
     "exception": false,
     "start_time": "2024-05-11T13:01:31.466285",
     "status": "completed"
    },
    "tags": []
   },
   "outputs": [],
   "source": [
    "train_df = train_df.drop(['case_id', 'date_decisionD', 'MONTH', 'WEEK_NUM', 'applicationcnt_361L', 'applicationscnt_1086L', 'applicationscnt_629L', 'applicationscnt_867L', 'avginstallast24m_3658937A', 'bankacctype_710L', 'cardtype_51L', 'clientscnt_1071L', 'clientscnt_136L', 'clientscnt_157L', 'clientscnt_257L', 'clientscnt_304L', 'clientscnt_360L', 'clientscnt_493L', 'clientscnt_946L', 'cntincpaycont9m_3716944L', 'credtype_322L', 'disbursementtype_67L', 'firstdatedue_489D', 'inittransactionamount_650A', 'inittransactioncode_186L', 'interestrategrace_34L', 'isbidproduct_1095L', 'isbidproductrequest_292L', 'isdebitcard_729L', 'lastapplicationdate_877D', 'lastapprcommoditycat_1041M', 'lastapprcommoditytypec_5251766M', 'lastapprcredamount_781A', 'lastdependentsnum_448L', 'lastotherinc_902A', 'lastotherlnsexpense_631A', 'lastrejectcommodtypec_5251769M', 'maininc_215A', 'maxannuity_4075009A', 'maxlnamtstart6m_4525199A', 'maxoutstandbalancel12m_4187113A', 'numactivecreds_622L', 'numactiverelcontr_750L', 'numinstpaidlastcontr_4325080L', 'numpmtchanneldd_318L', 'paytype1st_925L', 'paytype_783L', 'payvacationpostpone_4187118D', 'previouscontdistrict_112M', 'sellerplacescnt_216L', 'validfrom_1069D', 'education_1103M', 'education_88M', 'maritalst_893M', 'riskassesment_940T', 'approvaldate_319D_max', 'approvaldate_319D_mean', 'byoccupationinc_3656910L_max', 'byoccupationinc_3656910L_mean', 'childnum_21L_mean', 'creationdate_885D_max', 'creationdate_885D_min', 'creationdate_885D_mean', 'dateactivated_425D_max', 'dateactivated_425D_mean', 'dtlastpmt_581D_min', 'dtlastpmtallstes_3545839D_min', 'dtlastpmtallstes_3545839D_mean', 'employedfrom_700D_max', 'employedfrom_700D_mean', 'firstnonzeroinstldate_307D_max', 'firstnonzeroinstldate_307D_mean', 'isdebitcard_527L_mean', 'amtdebitincoming_4809443A', 'amtdebitincoming_4809443A_min', 'amtdebitincoming_4809443A_max', 'amtdebitincoming_4809443A_mean', 'amtdebitoutgoing_4809440A', 'amtdebitoutgoing_4809440A_min', 'amtdebitoutgoing_4809440A_max', 'amtdebitoutgoing_4809440A_mean', 'amtdepositbalance_4809441A', 'amtdepositbalance_4809441A_min', 'amtdepositbalance_4809441A_max', 'amtdepositbalance_4809441A_mean', 'amtdepositincoming_4809444A', 'amtdepositincoming_4809444A_min', 'amtdepositincoming_4809444A_max', 'amtdepositincoming_4809444A_mean', 'amtdepositoutgoing_4809442A', 'amtdepositoutgoing_4809442A_min', 'amtdepositoutgoing_4809442A_max', 'amtdepositoutgoing_4809442A_mean', 'deductiondate_4917603D_max', 'deductiondate_4917603D_min', 'deductiondate_4917603D_mean', 'name_4917606M_max', 'name_4917606M_mean', 'employername_160M_max', 'employername_160M_mean', 'processingdate_168D_min', 'processingdate_168D_mean', 'interesteffectiverate_369L_max', 'birthdate_87D_max', 'birthdate_87D_min', 'birthdate_87D_mean', 'childnum_185L_max', 'childnum_185L_mean', 'contaddr_district_15M_max', 'contaddr_district_15M_mean', 'contaddr_matchlist_1032L_mean', 'contaddr_smempladdr_334L_mean', 'contaddr_zipcode_807M_max', 'contaddr_zipcode_807M_mean', 'education_927M_max', 'empl_employedtotal_800L_max', 'empl_industry_691L_max', 'empladdr_district_926M_max', 'empladdr_zipcode_114M_max', 'familystate_447L_max', 'familystate_447L_mean', 'gender_992L_max', 'gender_992L_mean', 'housingtype_772L_mean', 'incometype_1044T_max', 'incometype_1044T_mean', 'isreference_387L_max', 'isreference_387L_mean', 'language1_981M_max', 'language1_981M_mean', 'mainoccupationinc_384A', 'mainoccupationinc_384A_min', 'mainoccupationinc_384A_max', 'mainoccupationinc_384A_mean', 'maritalst_703L_max', 'maritalst_703L_mean', 'persontype_1072L_max', 'registaddr_district_1083M_max', 'registaddr_district_1083M_mean', 'registaddr_zipcode_184M_max', 'registaddr_zipcode_184M_mean', 'relationshiptoclient_415T_max', 'relationshiptoclient_642T_max', 'remitter_829L_max', 'role_993L_max', 'role_993L_mean', 'safeguarantyflag_411L_mean', 'type_25L_max', 'type_25L_mean', 'last180dayaveragebalance_704A_min', 'last180dayaveragebalance_704A_max', 'last180dayaveragebalance_704A_mean', 'last180dayturnover_1134A_min', 'last180dayturnover_1134A_max', 'last180dayturnover_1134A_mean', 'last30dayturnover_651A_min', 'last30dayturnover_651A_max', 'last30dayturnover_651A_mean', 'annualeffectiverate_63L_max', 'classificationofcontr_13M_mean', 'contractst_545M_max', 'contractst_545M_mean', 'contractsum_5085717L_max', 'credlmt_230A', 'credlmt_230A_min', 'credlmt_230A_max', 'credlmt_230A_mean', 'credlmt_935A', 'credlmt_935A_min', 'credlmt_935A_max', 'credlmt_935A_mean', 'dateofcredend_289D_max', 'dateofcredend_289D_mean', 'dateofcredend_353D_min', 'dateofcredstart_181D_min', 'dateofrealrepmt_138D_min', 'debtoutstand_525A', 'debtoutstand_525A_min', 'debtoutstand_525A_max', 'debtoutstand_525A_mean', 'description_351M_max', 'dpdmaxdatemonth_442T_mean', 'dpdmaxdatemonth_89T_max', 'dpdmaxdatemonth_89T_mean', 'dpdmaxdateyear_596T_max', 'interestrate_508L_max', 'lastupdate_1112D_max', 'lastupdate_1112D_min', 'lastupdate_1112D_mean', 'lastupdate_388D_min', 'monthlyinstlamount_332A', 'monthlyinstlamount_332A_max', 'monthlyinstlamount_332A_mean', 'monthlyinstlamount_674A', 'monthlyinstlamount_674A_min', 'monthlyinstlamount_674A_max', 'monthlyinstlamount_674A_mean', 'nominalrate_281L_max', 'nominalrate_498L_max', 'numberofcontrsvalue_258L_mean', 'numberofinstls_320L_max', 'numberofoutstandinstls_520L_mean', 'numberofoutstandinstls_59L_max', 'numberofoverdueinstlmax_1039L_max', 'numberofoverdueinstlmaxdat_148D_min', 'numberofoverdueinstlmaxdat_148D_mean', 'numberofoverdueinstls_725L_max', 'numberofoverdueinstls_834L_mean', 'outstandingamount_354A', 'outstandingamount_354A_min', 'outstandingamount_354A_max', 'outstandingamount_354A_mean', 'outstandingamount_362A', 'outstandingamount_362A_min', 'outstandingamount_362A_max', 'outstandingamount_362A_mean', 'overdueamount_31A', 'overdueamount_31A_min', 'overdueamount_31A_max', 'overdueamount_31A_mean', 'overdueamount_659A_min', 'overdueamountmaxdatemonth_284T_mean', 'overdueamountmaxdatemonth_365T_max', 'overdueamountmaxdatemonth_365T_mean', 'overdueamountmaxdateyear_2T_max', 'periodicityofpmts_837L_max', 'periodicityofpmts_837L_mean', 'prolongationcount_599L_max', 'purposeofcred_426M_max', 'purposeofcred_426M_mean', 'refreshdate_3813885D_max', 'refreshdate_3813885D_min', 'refreshdate_3813885D_mean', 'residualamount_488A', 'residualamount_488A_min', 'residualamount_488A_max', 'residualamount_488A_mean', 'residualamount_856A_max', 'residualamount_856A_mean', 'totaldebtoverduevalue_718A', 'totaldebtoverduevalue_718A_min', 'totaldebtoverduevalue_718A_max', 'totaldebtoverduevalue_718A_mean', 'totaloutstanddebtvalue_39A', 'totaloutstanddebtvalue_39A_min', 'totaloutstanddebtvalue_39A_max', 'totaloutstanddebtvalue_39A_mean', 'totaloutstanddebtvalue_668A', 'addres_district_368M_max', 'addres_district_368M_mean', 'addres_role_871L_max', 'addres_role_871L_mean', 'addres_zip_823M_max', 'addres_zip_823M_mean', 'conts_role_79M_max', 'conts_role_79M_mean', 'empls_economicalst_849M_max', 'empls_economicalst_849M_mean', 'empls_employedfrom_796D_max', 'empls_employedfrom_796D_min', 'empls_employedfrom_796D_mean', 'empls_employer_name_740M_max', 'empls_employer_name_740M_mean', 'relatedpersons_role_762T_max', 'relatedpersons_role_762T_mean'])\n",
    "test_df = test_df.drop(['case_id', 'date_decisionD', 'MONTH', 'WEEK_NUM', 'applicationcnt_361L', 'applicationscnt_1086L', 'applicationscnt_629L', 'applicationscnt_867L', 'avginstallast24m_3658937A', 'bankacctype_710L', 'cardtype_51L', 'clientscnt_1071L', 'clientscnt_136L', 'clientscnt_157L', 'clientscnt_257L', 'clientscnt_304L', 'clientscnt_360L', 'clientscnt_493L', 'clientscnt_946L', 'cntincpaycont9m_3716944L', 'credtype_322L', 'disbursementtype_67L', 'firstdatedue_489D', 'inittransactionamount_650A', 'inittransactioncode_186L', 'interestrategrace_34L', 'isbidproduct_1095L', 'isbidproductrequest_292L', 'isdebitcard_729L', 'lastapplicationdate_877D', 'lastapprcommoditycat_1041M', 'lastapprcommoditytypec_5251766M', 'lastapprcredamount_781A', 'lastdependentsnum_448L', 'lastotherinc_902A', 'lastotherlnsexpense_631A', 'lastrejectcommodtypec_5251769M', 'maininc_215A', 'maxannuity_4075009A', 'maxlnamtstart6m_4525199A', 'maxoutstandbalancel12m_4187113A', 'numactivecreds_622L', 'numactiverelcontr_750L', 'numinstpaidlastcontr_4325080L', 'numpmtchanneldd_318L', 'paytype1st_925L', 'paytype_783L', 'payvacationpostpone_4187118D', 'previouscontdistrict_112M', 'sellerplacescnt_216L', 'validfrom_1069D', 'education_1103M', 'education_88M', 'maritalst_893M', 'riskassesment_940T', 'approvaldate_319D_max', 'approvaldate_319D_mean', 'byoccupationinc_3656910L_max', 'byoccupationinc_3656910L_mean', 'childnum_21L_mean', 'creationdate_885D_max', 'creationdate_885D_min', 'creationdate_885D_mean', 'dateactivated_425D_max', 'dateactivated_425D_mean', 'dtlastpmt_581D_min', 'dtlastpmtallstes_3545839D_min', 'dtlastpmtallstes_3545839D_mean', 'employedfrom_700D_max', 'employedfrom_700D_mean', 'firstnonzeroinstldate_307D_max', 'firstnonzeroinstldate_307D_mean', 'isdebitcard_527L_mean', 'amtdebitincoming_4809443A', 'amtdebitincoming_4809443A_min', 'amtdebitincoming_4809443A_max', 'amtdebitincoming_4809443A_mean', 'amtdebitoutgoing_4809440A', 'amtdebitoutgoing_4809440A_min', 'amtdebitoutgoing_4809440A_max', 'amtdebitoutgoing_4809440A_mean', 'amtdepositbalance_4809441A', 'amtdepositbalance_4809441A_min', 'amtdepositbalance_4809441A_max', 'amtdepositbalance_4809441A_mean', 'amtdepositincoming_4809444A', 'amtdepositincoming_4809444A_min', 'amtdepositincoming_4809444A_max', 'amtdepositincoming_4809444A_mean', 'amtdepositoutgoing_4809442A', 'amtdepositoutgoing_4809442A_min', 'amtdepositoutgoing_4809442A_max', 'amtdepositoutgoing_4809442A_mean', 'deductiondate_4917603D_max', 'deductiondate_4917603D_min', 'deductiondate_4917603D_mean', 'name_4917606M_max', 'name_4917606M_mean', 'employername_160M_max', 'employername_160M_mean', 'processingdate_168D_min', 'processingdate_168D_mean', 'interesteffectiverate_369L_max', 'birthdate_87D_max', 'birthdate_87D_min', 'birthdate_87D_mean', 'childnum_185L_max', 'childnum_185L_mean', 'contaddr_district_15M_max', 'contaddr_district_15M_mean', 'contaddr_matchlist_1032L_mean', 'contaddr_smempladdr_334L_mean', 'contaddr_zipcode_807M_max', 'contaddr_zipcode_807M_mean', 'education_927M_max', 'empl_employedtotal_800L_max', 'empl_industry_691L_max', 'empladdr_district_926M_max', 'empladdr_zipcode_114M_max', 'familystate_447L_max', 'familystate_447L_mean', 'gender_992L_max', 'gender_992L_mean', 'housingtype_772L_mean', 'incometype_1044T_max', 'incometype_1044T_mean', 'isreference_387L_max', 'isreference_387L_mean', 'language1_981M_max', 'language1_981M_mean', 'mainoccupationinc_384A', 'mainoccupationinc_384A_min', 'mainoccupationinc_384A_max', 'mainoccupationinc_384A_mean', 'maritalst_703L_max', 'maritalst_703L_mean', 'persontype_1072L_max', 'registaddr_district_1083M_max', 'registaddr_district_1083M_mean', 'registaddr_zipcode_184M_max', 'registaddr_zipcode_184M_mean', 'relationshiptoclient_415T_max', 'relationshiptoclient_642T_max', 'remitter_829L_max', 'role_993L_max', 'role_993L_mean', 'safeguarantyflag_411L_mean', 'type_25L_max', 'type_25L_mean', 'last180dayaveragebalance_704A_min', 'last180dayaveragebalance_704A_max', 'last180dayaveragebalance_704A_mean', 'last180dayturnover_1134A_min', 'last180dayturnover_1134A_max', 'last180dayturnover_1134A_mean', 'last30dayturnover_651A_min', 'last30dayturnover_651A_max', 'last30dayturnover_651A_mean', 'annualeffectiverate_63L_max', 'classificationofcontr_13M_mean', 'contractst_545M_max', 'contractst_545M_mean', 'contractsum_5085717L_max', 'credlmt_230A', 'credlmt_230A_min', 'credlmt_230A_max', 'credlmt_230A_mean', 'credlmt_935A', 'credlmt_935A_min', 'credlmt_935A_max', 'credlmt_935A_mean', 'dateofcredend_289D_max', 'dateofcredend_289D_mean', 'dateofcredend_353D_min', 'dateofcredstart_181D_min', 'dateofrealrepmt_138D_min', 'debtoutstand_525A', 'debtoutstand_525A_min', 'debtoutstand_525A_max', 'debtoutstand_525A_mean', 'description_351M_max', 'dpdmaxdatemonth_442T_mean', 'dpdmaxdatemonth_89T_max', 'dpdmaxdatemonth_89T_mean', 'dpdmaxdateyear_596T_max', 'interestrate_508L_max', 'lastupdate_1112D_max', 'lastupdate_1112D_min', 'lastupdate_1112D_mean', 'lastupdate_388D_min', 'monthlyinstlamount_332A', 'monthlyinstlamount_332A_max', 'monthlyinstlamount_332A_mean', 'monthlyinstlamount_674A', 'monthlyinstlamount_674A_min', 'monthlyinstlamount_674A_max', 'monthlyinstlamount_674A_mean', 'nominalrate_281L_max', 'nominalrate_498L_max', 'numberofcontrsvalue_258L_mean', 'numberofinstls_320L_max', 'numberofoutstandinstls_520L_mean', 'numberofoutstandinstls_59L_max', 'numberofoverdueinstlmax_1039L_max', 'numberofoverdueinstlmaxdat_148D_min', 'numberofoverdueinstlmaxdat_148D_mean', 'numberofoverdueinstls_725L_max', 'numberofoverdueinstls_834L_mean', 'outstandingamount_354A', 'outstandingamount_354A_min', 'outstandingamount_354A_max', 'outstandingamount_354A_mean', 'outstandingamount_362A', 'outstandingamount_362A_min', 'outstandingamount_362A_max', 'outstandingamount_362A_mean', 'overdueamount_31A', 'overdueamount_31A_min', 'overdueamount_31A_max', 'overdueamount_31A_mean', 'overdueamount_659A_min', 'overdueamountmaxdatemonth_284T_mean', 'overdueamountmaxdatemonth_365T_max', 'overdueamountmaxdatemonth_365T_mean', 'overdueamountmaxdateyear_2T_max', 'periodicityofpmts_837L_max', 'periodicityofpmts_837L_mean', 'prolongationcount_599L_max', 'purposeofcred_426M_max', 'purposeofcred_426M_mean', 'refreshdate_3813885D_max', 'refreshdate_3813885D_min', 'refreshdate_3813885D_mean', 'residualamount_488A', 'residualamount_488A_min', 'residualamount_488A_max', 'residualamount_488A_mean', 'residualamount_856A_max', 'residualamount_856A_mean', 'totaldebtoverduevalue_718A', 'totaldebtoverduevalue_718A_min', 'totaldebtoverduevalue_718A_max', 'totaldebtoverduevalue_718A_mean', 'totaloutstanddebtvalue_39A', 'totaloutstanddebtvalue_39A_min', 'totaloutstanddebtvalue_39A_max', 'totaloutstanddebtvalue_39A_mean', 'totaloutstanddebtvalue_668A', 'addres_district_368M_max', 'addres_district_368M_mean', 'addres_role_871L_max', 'addres_role_871L_mean', 'addres_zip_823M_max', 'addres_zip_823M_mean', 'conts_role_79M_max', 'conts_role_79M_mean', 'empls_economicalst_849M_max', 'empls_economicalst_849M_mean', 'empls_employedfrom_796D_max', 'empls_employedfrom_796D_min', 'empls_employedfrom_796D_mean', 'empls_employer_name_740M_max', 'empls_employer_name_740M_mean', 'relatedpersons_role_762T_max', 'relatedpersons_role_762T_mean'])"
   ]
  },
  {
   "cell_type": "code",
   "execution_count": 52,
   "id": "981c4ef5",
   "metadata": {
    "execution": {
     "iopub.execute_input": "2024-05-11T13:01:31.790789Z",
     "iopub.status.busy": "2024-05-11T13:01:31.790057Z",
     "iopub.status.idle": "2024-05-11T13:01:31.798067Z",
     "shell.execute_reply": "2024-05-11T13:01:31.796859Z"
    },
    "papermill": {
     "duration": 0.038585,
     "end_time": "2024-05-11T13:01:31.800769",
     "exception": false,
     "start_time": "2024-05-11T13:01:31.762184",
     "status": "completed"
    },
    "tags": []
   },
   "outputs": [],
   "source": [
    "# train_df = train_df.drop(['actualdpdtolerance_344P', 'annuity_780A', 'annuitynextmonth_57A', 'applicationscnt_464L', 'avgoutstandbalancel6m_4187114A', 'avgpmtlast12m_4525200A', 'clientscnt3m_3712950L', 'clientscnt_100L', 'clientscnt_1022L', 'clientscnt_1130L', 'clientscnt_533L', 'clientscnt_887L', 'downpmt_116A', 'homephncnt_628L', 'lastapprdate_640D', 'maxdebt4_972A', 'maxinstallast24m_3658928A', 'maxpmtlast3m_4525190A', 'numactivecredschannel_414L', 'numinstpaid_4499208L', 'numinstregularpaidest_4493210L', 'posfpd10lastmonth_333P', 'posfpd30lastmonth_3976960P', 'posfstqpd30lastmonth_3976962P', 'totinstallast1m_4525188A', 'twobodfilling_608L', 'assignmentdate_4527235D', 'maritalst_385M', 'pmtcount_4527229L', 'approvaldate_319D_min', 'credacc_maxhisbal_375A_min', 'credacc_maxhisbal_375A_max', 'credacc_maxhisbal_375A_mean', 'credacc_minhisbal_90A_min', 'credacc_minhisbal_90A_max', 'credacc_minhisbal_90A_mean', 'credacc_transactions_402L_max', 'credacc_transactions_402L_mean', 'credtype_587L_max', 'credtype_587L_mean', 'downpmt_134A_mean', 'dtlastpmt_581D_mean', 'dtlastpmtallstes_3545839D_max', 'employedfrom_700D_min', 'firstnonzeroinstldate_307D_min', 'inittransactioncode_279L_max', 'inittransactioncode_279L_mean', 'isdebitcard_527L_max', 'revolvingaccount_394A', 'revolvingaccount_394A_min', 'revolvingaccount_394A_max', 'revolvingaccount_394A_mean', 'amount_4917619A_min', 'amount_4917619A_max', 'amount_4917619A_mean', 'processingdate_168D_max', 'interesteffectiverate_369L_mean', 'amount_416A', 'amount_416A_min', 'amount_416A_max', 'amount_416A_mean', 'contractenddate_991D_max', 'contractenddate_991D_min', 'contractenddate_991D_mean', 'openingdate_313D_max', 'openingdate_313D_min', 'openingdate_313D_mean', 'education_927M_mean', 'empl_employedfrom_271D_max', 'empl_employedfrom_271D_min', 'empl_employedfrom_271D_mean', 'housetype_905L_max', 'personindex_1023L_max', 'persontype_1072L_mean', 'persontype_792L_max', 'relationshiptoclient_415T_mean', 'relationshiptoclient_642T_mean', 'remitter_829L_mean', 'role_1084L_max', 'role_1084L_mean', 'last180dayaveragebalance_704A', 'last180dayturnover_1134A', 'last30dayturnover_651A', 'openingdate_857D_max', 'openingdate_857D_min', 'openingdate_857D_mean', 'annualeffectiverate_199L_max', 'classificationofcontr_13M_max', 'classificationofcontr_400M_mean', 'dateofcredend_289D_min', 'description_351M_mean', 'dpdmaxdateyear_896T_max', 'instlamount_768A', 'instlamount_768A_max', 'instlamount_768A_mean', 'instlamount_852A', 'instlamount_852A_max', 'instlamount_852A_mean', 'interestrate_508L_mean', 'nominalrate_281L_mean', 'nominalrate_498L_mean', 'numberofinstls_229L_max', 'numberofoutstandinstls_59L_mean', 'overdueamountmax2date_1002D_min', 'overdueamountmax2date_1002D_mean', 'overdueamountmaxdateyear_994T_max', 'periodicityofpmts_1102L_mean', 'residualamount_856A', 'totalamount_6A_min', 'totalamount_996A', 'totalamount_996A_min', 'totalamount_996A_max', 'totaloutstanddebtvalue_668A_min', 'totaloutstanddebtvalue_668A_max', 'totaloutstanddebtvalue_668A_mean'])\n",
    "# test_df = test_df.drop(['actualdpdtolerance_344P', 'annuity_780A', 'annuitynextmonth_57A', 'applicationscnt_464L', 'avgoutstandbalancel6m_4187114A', 'avgpmtlast12m_4525200A', 'clientscnt3m_3712950L', 'clientscnt_100L', 'clientscnt_1022L', 'clientscnt_1130L', 'clientscnt_533L', 'clientscnt_887L', 'downpmt_116A', 'homephncnt_628L', 'lastapprdate_640D', 'maxdebt4_972A', 'maxinstallast24m_3658928A', 'maxpmtlast3m_4525190A', 'numactivecredschannel_414L', 'numinstpaid_4499208L', 'numinstregularpaidest_4493210L', 'posfpd10lastmonth_333P', 'posfpd30lastmonth_3976960P', 'posfstqpd30lastmonth_3976962P', 'totinstallast1m_4525188A', 'twobodfilling_608L', 'assignmentdate_4527235D', 'maritalst_385M', 'pmtcount_4527229L', 'approvaldate_319D_min', 'credacc_maxhisbal_375A_min', 'credacc_maxhisbal_375A_max', 'credacc_maxhisbal_375A_mean', 'credacc_minhisbal_90A_min', 'credacc_minhisbal_90A_max', 'credacc_minhisbal_90A_mean', 'credacc_transactions_402L_max', 'credacc_transactions_402L_mean', 'credtype_587L_max', 'credtype_587L_mean', 'downpmt_134A_mean', 'dtlastpmt_581D_mean', 'dtlastpmtallstes_3545839D_max', 'employedfrom_700D_min', 'firstnonzeroinstldate_307D_min', 'inittransactioncode_279L_max', 'inittransactioncode_279L_mean', 'isdebitcard_527L_max', 'revolvingaccount_394A', 'revolvingaccount_394A_min', 'revolvingaccount_394A_max', 'revolvingaccount_394A_mean', 'amount_4917619A_min', 'amount_4917619A_max', 'amount_4917619A_mean', 'processingdate_168D_max', 'interesteffectiverate_369L_mean', 'amount_416A', 'amount_416A_min', 'amount_416A_max', 'amount_416A_mean', 'contractenddate_991D_max', 'contractenddate_991D_min', 'contractenddate_991D_mean', 'openingdate_313D_max', 'openingdate_313D_min', 'openingdate_313D_mean', 'education_927M_mean', 'empl_employedfrom_271D_max', 'empl_employedfrom_271D_min', 'empl_employedfrom_271D_mean', 'housetype_905L_max', 'personindex_1023L_max', 'persontype_1072L_mean', 'persontype_792L_max', 'relationshiptoclient_415T_mean', 'relationshiptoclient_642T_mean', 'remitter_829L_mean', 'role_1084L_max', 'role_1084L_mean', 'last180dayaveragebalance_704A', 'last180dayturnover_1134A', 'last30dayturnover_651A', 'openingdate_857D_max', 'openingdate_857D_min', 'openingdate_857D_mean', 'annualeffectiverate_199L_max', 'classificationofcontr_13M_max', 'classificationofcontr_400M_mean', 'dateofcredend_289D_min', 'description_351M_mean', 'dpdmaxdateyear_896T_max', 'instlamount_768A', 'instlamount_768A_max', 'instlamount_768A_mean', 'instlamount_852A', 'instlamount_852A_max', 'instlamount_852A_mean', 'interestrate_508L_mean', 'nominalrate_281L_mean', 'nominalrate_498L_mean', 'numberofinstls_229L_max', 'numberofoutstandinstls_59L_mean', 'overdueamountmax2date_1002D_min', 'overdueamountmax2date_1002D_mean', 'overdueamountmaxdateyear_994T_max', 'periodicityofpmts_1102L_mean', 'residualamount_856A', 'totalamount_6A_min', 'totalamount_996A', 'totalamount_996A_min', 'totalamount_996A_max', 'totaloutstanddebtvalue_668A_min', 'totaloutstanddebtvalue_668A_max', 'totaloutstanddebtvalue_668A_mean'])"
   ]
  },
  {
   "cell_type": "code",
   "execution_count": 53,
   "id": "a645bd72",
   "metadata": {
    "execution": {
     "iopub.execute_input": "2024-05-11T13:01:31.853233Z",
     "iopub.status.busy": "2024-05-11T13:01:31.852725Z",
     "iopub.status.idle": "2024-05-11T13:01:32.009697Z",
     "shell.execute_reply": "2024-05-11T13:01:32.008333Z"
    },
    "papermill": {
     "duration": 0.186501,
     "end_time": "2024-05-11T13:01:32.012419",
     "exception": false,
     "start_time": "2024-05-11T13:01:31.825918",
     "status": "completed"
    },
    "tags": []
   },
   "outputs": [
    {
     "data": {
      "text/plain": [
       "0"
      ]
     },
     "execution_count": 53,
     "metadata": {},
     "output_type": "execute_result"
    }
   ],
   "source": [
    "gc.collect()"
   ]
  },
  {
   "cell_type": "code",
   "execution_count": 54,
   "id": "6959cb49",
   "metadata": {
    "execution": {
     "iopub.execute_input": "2024-05-11T13:01:32.065758Z",
     "iopub.status.busy": "2024-05-11T13:01:32.065234Z",
     "iopub.status.idle": "2024-05-11T13:01:35.763215Z",
     "shell.execute_reply": "2024-05-11T13:01:35.762061Z"
    },
    "papermill": {
     "duration": 3.7282,
     "end_time": "2024-05-11T13:01:35.766173",
     "exception": false,
     "start_time": "2024-05-11T13:01:32.037973",
     "status": "completed"
    },
    "tags": []
   },
   "outputs": [],
   "source": [
    "from sklearn.utils import resample\n",
    "\n",
    "majority_class = train_df.filter(pl.col('target') == 0)\n",
    "minority_class = train_df.filter(pl.col('target') == 1)\n",
    "\n",
    "majority_downsampled = resample(\n",
    "                                majority_class,\n",
    "                                replace=False,\n",
    "                                n_samples=len(minority_class),\n",
    "                                random_state=42\n",
    "                               )\n",
    "\n",
    "train_d_df = pl.concat([majority_downsampled, minority_class])\n",
    "\n",
    "train_d_df = train_d_df.sample(fraction=1, seed=42)"
   ]
  },
  {
   "cell_type": "code",
   "execution_count": 55,
   "id": "97bb9237",
   "metadata": {
    "execution": {
     "iopub.execute_input": "2024-05-11T13:01:35.819920Z",
     "iopub.status.busy": "2024-05-11T13:01:35.819497Z",
     "iopub.status.idle": "2024-05-11T13:01:36.364394Z",
     "shell.execute_reply": "2024-05-11T13:01:36.363009Z"
    },
    "papermill": {
     "duration": 0.575307,
     "end_time": "2024-05-11T13:01:36.367324",
     "exception": false,
     "start_time": "2024-05-11T13:01:35.792017",
     "status": "completed"
    },
    "tags": []
   },
   "outputs": [],
   "source": [
    "del majority_class\n",
    "del minority_class"
   ]
  },
  {
   "cell_type": "code",
   "execution_count": 56,
   "id": "1d4772b4",
   "metadata": {
    "execution": {
     "iopub.execute_input": "2024-05-11T13:01:36.420005Z",
     "iopub.status.busy": "2024-05-11T13:01:36.419584Z",
     "iopub.status.idle": "2024-05-11T13:01:36.545417Z",
     "shell.execute_reply": "2024-05-11T13:01:36.543492Z"
    },
    "papermill": {
     "duration": 0.156417,
     "end_time": "2024-05-11T13:01:36.548935",
     "exception": false,
     "start_time": "2024-05-11T13:01:36.392518",
     "status": "completed"
    },
    "tags": []
   },
   "outputs": [
    {
     "data": {
      "text/plain": [
       "0"
      ]
     },
     "execution_count": 56,
     "metadata": {},
     "output_type": "execute_result"
    }
   ],
   "source": [
    "gc.collect()"
   ]
  },
  {
   "cell_type": "code",
   "execution_count": 57,
   "id": "0a916fea",
   "metadata": {
    "execution": {
     "iopub.execute_input": "2024-05-11T13:01:36.604867Z",
     "iopub.status.busy": "2024-05-11T13:01:36.604373Z",
     "iopub.status.idle": "2024-05-11T13:01:54.500079Z",
     "shell.execute_reply": "2024-05-11T13:01:54.498653Z"
    },
    "papermill": {
     "duration": 17.927252,
     "end_time": "2024-05-11T13:01:54.502466",
     "exception": false,
     "start_time": "2024-05-11T13:01:36.575214",
     "status": "completed"
    },
    "tags": []
   },
   "outputs": [
    {
     "data": {
      "text/html": [
       "<style>#sk-container-id-1 {color: black;background-color: white;}#sk-container-id-1 pre{padding: 0;}#sk-container-id-1 div.sk-toggleable {background-color: white;}#sk-container-id-1 label.sk-toggleable__label {cursor: pointer;display: block;width: 100%;margin-bottom: 0;padding: 0.3em;box-sizing: border-box;text-align: center;}#sk-container-id-1 label.sk-toggleable__label-arrow:before {content: \"▸\";float: left;margin-right: 0.25em;color: #696969;}#sk-container-id-1 label.sk-toggleable__label-arrow:hover:before {color: black;}#sk-container-id-1 div.sk-estimator:hover label.sk-toggleable__label-arrow:before {color: black;}#sk-container-id-1 div.sk-toggleable__content {max-height: 0;max-width: 0;overflow: hidden;text-align: left;background-color: #f0f8ff;}#sk-container-id-1 div.sk-toggleable__content pre {margin: 0.2em;color: black;border-radius: 0.25em;background-color: #f0f8ff;}#sk-container-id-1 input.sk-toggleable__control:checked~div.sk-toggleable__content {max-height: 200px;max-width: 100%;overflow: auto;}#sk-container-id-1 input.sk-toggleable__control:checked~label.sk-toggleable__label-arrow:before {content: \"▾\";}#sk-container-id-1 div.sk-estimator input.sk-toggleable__control:checked~label.sk-toggleable__label {background-color: #d4ebff;}#sk-container-id-1 div.sk-label input.sk-toggleable__control:checked~label.sk-toggleable__label {background-color: #d4ebff;}#sk-container-id-1 input.sk-hidden--visually {border: 0;clip: rect(1px 1px 1px 1px);clip: rect(1px, 1px, 1px, 1px);height: 1px;margin: -1px;overflow: hidden;padding: 0;position: absolute;width: 1px;}#sk-container-id-1 div.sk-estimator {font-family: monospace;background-color: #f0f8ff;border: 1px dotted black;border-radius: 0.25em;box-sizing: border-box;margin-bottom: 0.5em;}#sk-container-id-1 div.sk-estimator:hover {background-color: #d4ebff;}#sk-container-id-1 div.sk-parallel-item::after {content: \"\";width: 100%;border-bottom: 1px solid gray;flex-grow: 1;}#sk-container-id-1 div.sk-label:hover label.sk-toggleable__label {background-color: #d4ebff;}#sk-container-id-1 div.sk-serial::before {content: \"\";position: absolute;border-left: 1px solid gray;box-sizing: border-box;top: 0;bottom: 0;left: 50%;z-index: 0;}#sk-container-id-1 div.sk-serial {display: flex;flex-direction: column;align-items: center;background-color: white;padding-right: 0.2em;padding-left: 0.2em;position: relative;}#sk-container-id-1 div.sk-item {position: relative;z-index: 1;}#sk-container-id-1 div.sk-parallel {display: flex;align-items: stretch;justify-content: center;background-color: white;position: relative;}#sk-container-id-1 div.sk-item::before, #sk-container-id-1 div.sk-parallel-item::before {content: \"\";position: absolute;border-left: 1px solid gray;box-sizing: border-box;top: 0;bottom: 0;left: 50%;z-index: -1;}#sk-container-id-1 div.sk-parallel-item {display: flex;flex-direction: column;z-index: 1;position: relative;background-color: white;}#sk-container-id-1 div.sk-parallel-item:first-child::after {align-self: flex-end;width: 50%;}#sk-container-id-1 div.sk-parallel-item:last-child::after {align-self: flex-start;width: 50%;}#sk-container-id-1 div.sk-parallel-item:only-child::after {width: 0;}#sk-container-id-1 div.sk-dashed-wrapped {border: 1px dashed gray;margin: 0 0.4em 0.5em 0.4em;box-sizing: border-box;padding-bottom: 0.4em;background-color: white;}#sk-container-id-1 div.sk-label label {font-family: monospace;font-weight: bold;display: inline-block;line-height: 1.2em;}#sk-container-id-1 div.sk-label-container {text-align: center;}#sk-container-id-1 div.sk-container {/* jupyter's `normalize.less` sets `[hidden] { display: none; }` but bootstrap.min.css set `[hidden] { display: none !important; }` so we also need the `!important` here to be able to override the default hidden behavior on the sphinx rendered scikit-learn.org. See: https://github.com/scikit-learn/scikit-learn/issues/21755 */display: inline-block !important;position: relative;}#sk-container-id-1 div.sk-text-repr-fallback {display: none;}</style><div id=\"sk-container-id-1\" class=\"sk-top-container\"><div class=\"sk-text-repr-fallback\"><pre>XGBClassifier(base_score=None, booster=None, callbacks=None,\n",
       "              colsample_bylevel=None, colsample_bynode=None,\n",
       "              colsample_bytree=None, device=None, early_stopping_rounds=None,\n",
       "              enable_categorical=False, eval_metric=&#x27;logloss&#x27;,\n",
       "              feature_types=None, gamma=None, grow_policy=None,\n",
       "              importance_type=None, interaction_constraints=None,\n",
       "              learning_rate=None, max_bin=None, max_cat_threshold=None,\n",
       "              max_cat_to_onehot=None, max_delta_step=None, max_depth=None,\n",
       "              max_leaves=None, min_child_weight=None, missing=nan,\n",
       "              monotone_constraints=None, multi_strategy=None, n_estimators=None,\n",
       "              n_jobs=None, num_parallel_tree=None, random_state=None, ...)</pre><b>In a Jupyter environment, please rerun this cell to show the HTML representation or trust the notebook. <br />On GitHub, the HTML representation is unable to render, please try loading this page with nbviewer.org.</b></div><div class=\"sk-container\" hidden><div class=\"sk-item\"><div class=\"sk-estimator sk-toggleable\"><input class=\"sk-toggleable__control sk-hidden--visually\" id=\"sk-estimator-id-1\" type=\"checkbox\" checked><label for=\"sk-estimator-id-1\" class=\"sk-toggleable__label sk-toggleable__label-arrow\">XGBClassifier</label><div class=\"sk-toggleable__content\"><pre>XGBClassifier(base_score=None, booster=None, callbacks=None,\n",
       "              colsample_bylevel=None, colsample_bynode=None,\n",
       "              colsample_bytree=None, device=None, early_stopping_rounds=None,\n",
       "              enable_categorical=False, eval_metric=&#x27;logloss&#x27;,\n",
       "              feature_types=None, gamma=None, grow_policy=None,\n",
       "              importance_type=None, interaction_constraints=None,\n",
       "              learning_rate=None, max_bin=None, max_cat_threshold=None,\n",
       "              max_cat_to_onehot=None, max_delta_step=None, max_depth=None,\n",
       "              max_leaves=None, min_child_weight=None, missing=nan,\n",
       "              monotone_constraints=None, multi_strategy=None, n_estimators=None,\n",
       "              n_jobs=None, num_parallel_tree=None, random_state=None, ...)</pre></div></div></div></div></div>"
      ],
      "text/plain": [
       "XGBClassifier(base_score=None, booster=None, callbacks=None,\n",
       "              colsample_bylevel=None, colsample_bynode=None,\n",
       "              colsample_bytree=None, device=None, early_stopping_rounds=None,\n",
       "              enable_categorical=False, eval_metric='logloss',\n",
       "              feature_types=None, gamma=None, grow_policy=None,\n",
       "              importance_type=None, interaction_constraints=None,\n",
       "              learning_rate=None, max_bin=None, max_cat_threshold=None,\n",
       "              max_cat_to_onehot=None, max_delta_step=None, max_depth=None,\n",
       "              max_leaves=None, min_child_weight=None, missing=nan,\n",
       "              monotone_constraints=None, multi_strategy=None, n_estimators=None,\n",
       "              n_jobs=None, num_parallel_tree=None, random_state=None, ...)"
      ]
     },
     "execution_count": 57,
     "metadata": {},
     "output_type": "execute_result"
    }
   ],
   "source": [
    "import xgboost as xgb\n",
    "from sklearn.model_selection import train_test_split\n",
    "\n",
    "# Assuming train_static_0 contains your data\n",
    "# Splitting data into train and test sets\n",
    "# X_train, X_test, y_train, y_test = train_test_split(train_d_df.drop('target'), train_d_df['target'], test_size=0.2, random_state=42)\n",
    "y_train = train_d_df['target']\n",
    "X_train = train_d_df.drop('target')\n",
    "X_test = test_df\n",
    "\n",
    "# Initializing XGBoost classifier\n",
    "model = xgb.XGBClassifier(\n",
    "    objective='binary:logistic',  # for binary classification\n",
    "    eval_metric='logloss'       # Evaluation metric\n",
    ")\n",
    "\n",
    "# Training the classifier\n",
    "model.fit(X_train, y_train)"
   ]
  },
  {
   "cell_type": "code",
   "execution_count": 58,
   "id": "21cc5798",
   "metadata": {
    "execution": {
     "iopub.execute_input": "2024-05-11T13:01:54.556694Z",
     "iopub.status.busy": "2024-05-11T13:01:54.556250Z",
     "iopub.status.idle": "2024-05-11T13:01:54.592284Z",
     "shell.execute_reply": "2024-05-11T13:01:54.590767Z"
    },
    "papermill": {
     "duration": 0.06647,
     "end_time": "2024-05-11T13:01:54.595350",
     "exception": false,
     "start_time": "2024-05-11T13:01:54.528880",
     "status": "completed"
    },
    "tags": []
   },
   "outputs": [],
   "source": [
    "feature_importances = model.feature_importances_\n",
    "\n",
    "# Create a DataFrame to store feature names and importances\n",
    "feature_importance_df = pd.DataFrame({'Feature': X_train.columns, 'Importance': feature_importances})\n",
    "\n",
    "# Sort the features by importance in descending order\n",
    "sorted_features = feature_importance_df.sort_values(by='Importance', ascending=False)\n",
    "\n",
    "# Print the top N important features\n",
    "top_n = 50  # Change this value as needed\n",
    "top_features = sorted_features['Feature'].head(top_n).tolist()"
   ]
  },
  {
   "cell_type": "code",
   "execution_count": 59,
   "id": "44031b70",
   "metadata": {
    "execution": {
     "iopub.execute_input": "2024-05-11T13:01:54.648911Z",
     "iopub.status.busy": "2024-05-11T13:01:54.648391Z",
     "iopub.status.idle": "2024-05-11T13:01:56.679842Z",
     "shell.execute_reply": "2024-05-11T13:01:56.678743Z"
    },
    "papermill": {
     "duration": 2.061767,
     "end_time": "2024-05-11T13:01:56.682799",
     "exception": false,
     "start_time": "2024-05-11T13:01:54.621032",
     "status": "completed"
    },
    "tags": []
   },
   "outputs": [
    {
     "data": {
      "text/html": [
       "<style>#sk-container-id-2 {color: black;background-color: white;}#sk-container-id-2 pre{padding: 0;}#sk-container-id-2 div.sk-toggleable {background-color: white;}#sk-container-id-2 label.sk-toggleable__label {cursor: pointer;display: block;width: 100%;margin-bottom: 0;padding: 0.3em;box-sizing: border-box;text-align: center;}#sk-container-id-2 label.sk-toggleable__label-arrow:before {content: \"▸\";float: left;margin-right: 0.25em;color: #696969;}#sk-container-id-2 label.sk-toggleable__label-arrow:hover:before {color: black;}#sk-container-id-2 div.sk-estimator:hover label.sk-toggleable__label-arrow:before {color: black;}#sk-container-id-2 div.sk-toggleable__content {max-height: 0;max-width: 0;overflow: hidden;text-align: left;background-color: #f0f8ff;}#sk-container-id-2 div.sk-toggleable__content pre {margin: 0.2em;color: black;border-radius: 0.25em;background-color: #f0f8ff;}#sk-container-id-2 input.sk-toggleable__control:checked~div.sk-toggleable__content {max-height: 200px;max-width: 100%;overflow: auto;}#sk-container-id-2 input.sk-toggleable__control:checked~label.sk-toggleable__label-arrow:before {content: \"▾\";}#sk-container-id-2 div.sk-estimator input.sk-toggleable__control:checked~label.sk-toggleable__label {background-color: #d4ebff;}#sk-container-id-2 div.sk-label input.sk-toggleable__control:checked~label.sk-toggleable__label {background-color: #d4ebff;}#sk-container-id-2 input.sk-hidden--visually {border: 0;clip: rect(1px 1px 1px 1px);clip: rect(1px, 1px, 1px, 1px);height: 1px;margin: -1px;overflow: hidden;padding: 0;position: absolute;width: 1px;}#sk-container-id-2 div.sk-estimator {font-family: monospace;background-color: #f0f8ff;border: 1px dotted black;border-radius: 0.25em;box-sizing: border-box;margin-bottom: 0.5em;}#sk-container-id-2 div.sk-estimator:hover {background-color: #d4ebff;}#sk-container-id-2 div.sk-parallel-item::after {content: \"\";width: 100%;border-bottom: 1px solid gray;flex-grow: 1;}#sk-container-id-2 div.sk-label:hover label.sk-toggleable__label {background-color: #d4ebff;}#sk-container-id-2 div.sk-serial::before {content: \"\";position: absolute;border-left: 1px solid gray;box-sizing: border-box;top: 0;bottom: 0;left: 50%;z-index: 0;}#sk-container-id-2 div.sk-serial {display: flex;flex-direction: column;align-items: center;background-color: white;padding-right: 0.2em;padding-left: 0.2em;position: relative;}#sk-container-id-2 div.sk-item {position: relative;z-index: 1;}#sk-container-id-2 div.sk-parallel {display: flex;align-items: stretch;justify-content: center;background-color: white;position: relative;}#sk-container-id-2 div.sk-item::before, #sk-container-id-2 div.sk-parallel-item::before {content: \"\";position: absolute;border-left: 1px solid gray;box-sizing: border-box;top: 0;bottom: 0;left: 50%;z-index: -1;}#sk-container-id-2 div.sk-parallel-item {display: flex;flex-direction: column;z-index: 1;position: relative;background-color: white;}#sk-container-id-2 div.sk-parallel-item:first-child::after {align-self: flex-end;width: 50%;}#sk-container-id-2 div.sk-parallel-item:last-child::after {align-self: flex-start;width: 50%;}#sk-container-id-2 div.sk-parallel-item:only-child::after {width: 0;}#sk-container-id-2 div.sk-dashed-wrapped {border: 1px dashed gray;margin: 0 0.4em 0.5em 0.4em;box-sizing: border-box;padding-bottom: 0.4em;background-color: white;}#sk-container-id-2 div.sk-label label {font-family: monospace;font-weight: bold;display: inline-block;line-height: 1.2em;}#sk-container-id-2 div.sk-label-container {text-align: center;}#sk-container-id-2 div.sk-container {/* jupyter's `normalize.less` sets `[hidden] { display: none; }` but bootstrap.min.css set `[hidden] { display: none !important; }` so we also need the `!important` here to be able to override the default hidden behavior on the sphinx rendered scikit-learn.org. See: https://github.com/scikit-learn/scikit-learn/issues/21755 */display: inline-block !important;position: relative;}#sk-container-id-2 div.sk-text-repr-fallback {display: none;}</style><div id=\"sk-container-id-2\" class=\"sk-top-container\"><div class=\"sk-text-repr-fallback\"><pre>XGBClassifier(base_score=None, booster=None, callbacks=None,\n",
       "              colsample_bylevel=None, colsample_bynode=None,\n",
       "              colsample_bytree=None, device=None, early_stopping_rounds=None,\n",
       "              enable_categorical=False, eval_metric=&#x27;logloss&#x27;,\n",
       "              feature_types=None, gamma=None, grow_policy=None,\n",
       "              importance_type=None, interaction_constraints=None,\n",
       "              learning_rate=None, max_bin=None, max_cat_threshold=None,\n",
       "              max_cat_to_onehot=None, max_delta_step=None, max_depth=None,\n",
       "              max_leaves=None, min_child_weight=None, missing=nan,\n",
       "              monotone_constraints=None, multi_strategy=None, n_estimators=None,\n",
       "              n_jobs=None, num_parallel_tree=None, random_state=None, ...)</pre><b>In a Jupyter environment, please rerun this cell to show the HTML representation or trust the notebook. <br />On GitHub, the HTML representation is unable to render, please try loading this page with nbviewer.org.</b></div><div class=\"sk-container\" hidden><div class=\"sk-item\"><div class=\"sk-estimator sk-toggleable\"><input class=\"sk-toggleable__control sk-hidden--visually\" id=\"sk-estimator-id-2\" type=\"checkbox\" checked><label for=\"sk-estimator-id-2\" class=\"sk-toggleable__label sk-toggleable__label-arrow\">XGBClassifier</label><div class=\"sk-toggleable__content\"><pre>XGBClassifier(base_score=None, booster=None, callbacks=None,\n",
       "              colsample_bylevel=None, colsample_bynode=None,\n",
       "              colsample_bytree=None, device=None, early_stopping_rounds=None,\n",
       "              enable_categorical=False, eval_metric=&#x27;logloss&#x27;,\n",
       "              feature_types=None, gamma=None, grow_policy=None,\n",
       "              importance_type=None, interaction_constraints=None,\n",
       "              learning_rate=None, max_bin=None, max_cat_threshold=None,\n",
       "              max_cat_to_onehot=None, max_delta_step=None, max_depth=None,\n",
       "              max_leaves=None, min_child_weight=None, missing=nan,\n",
       "              monotone_constraints=None, multi_strategy=None, n_estimators=None,\n",
       "              n_jobs=None, num_parallel_tree=None, random_state=None, ...)</pre></div></div></div></div></div>"
      ],
      "text/plain": [
       "XGBClassifier(base_score=None, booster=None, callbacks=None,\n",
       "              colsample_bylevel=None, colsample_bynode=None,\n",
       "              colsample_bytree=None, device=None, early_stopping_rounds=None,\n",
       "              enable_categorical=False, eval_metric='logloss',\n",
       "              feature_types=None, gamma=None, grow_policy=None,\n",
       "              importance_type=None, interaction_constraints=None,\n",
       "              learning_rate=None, max_bin=None, max_cat_threshold=None,\n",
       "              max_cat_to_onehot=None, max_delta_step=None, max_depth=None,\n",
       "              max_leaves=None, min_child_weight=None, missing=nan,\n",
       "              monotone_constraints=None, multi_strategy=None, n_estimators=None,\n",
       "              n_jobs=None, num_parallel_tree=None, random_state=None, ...)"
      ]
     },
     "execution_count": 59,
     "metadata": {},
     "output_type": "execute_result"
    }
   ],
   "source": [
    "import xgboost as xgb\n",
    "from sklearn.model_selection import train_test_split\n",
    "\n",
    "# Assuming train_static_0 contains your data\n",
    "# Splitting data into train and test sets\n",
    "# X_train, X_test, y_train, y_test = train_test_split(train_d_df.drop('target'), train_d_df['target'], test_size=0.2, random_state=42)\n",
    "y_train = train_d_df['target']\n",
    "X_train = train_d_df.drop('target').select(top_features)\n",
    "X_test = test_df.select(top_features)\n",
    "\n",
    "# Initializing XGBoost classifier\n",
    "model = xgb.XGBClassifier(\n",
    "    objective='binary:logistic',  # for binary classification\n",
    "    eval_metric='logloss'       # Evaluation metric\n",
    ")\n",
    "\n",
    "# Training the classifier\n",
    "model.fit(X_train, y_train)"
   ]
  },
  {
   "cell_type": "code",
   "execution_count": 60,
   "id": "307a457e",
   "metadata": {
    "execution": {
     "iopub.execute_input": "2024-05-11T13:01:56.746676Z",
     "iopub.status.busy": "2024-05-11T13:01:56.746022Z",
     "iopub.status.idle": "2024-05-11T13:01:56.780363Z",
     "shell.execute_reply": "2024-05-11T13:01:56.779108Z"
    },
    "papermill": {
     "duration": 0.072831,
     "end_time": "2024-05-11T13:01:56.784239",
     "exception": false,
     "start_time": "2024-05-11T13:01:56.711408",
     "status": "completed"
    },
    "tags": []
   },
   "outputs": [],
   "source": [
    "y_pred1 = model.predict_proba(X_test)"
   ]
  },
  {
   "cell_type": "code",
   "execution_count": 61,
   "id": "b241d833",
   "metadata": {
    "execution": {
     "iopub.execute_input": "2024-05-11T13:01:56.853948Z",
     "iopub.status.busy": "2024-05-11T13:01:56.853420Z",
     "iopub.status.idle": "2024-05-11T13:03:49.841795Z",
     "shell.execute_reply": "2024-05-11T13:03:49.840308Z"
    },
    "papermill": {
     "duration": 113.047665,
     "end_time": "2024-05-11T13:03:49.872046",
     "exception": false,
     "start_time": "2024-05-11T13:01:56.824381",
     "status": "completed"
    },
    "tags": []
   },
   "outputs": [
    {
     "data": {
      "text/html": [
       "<style>#sk-container-id-3 {color: black;background-color: white;}#sk-container-id-3 pre{padding: 0;}#sk-container-id-3 div.sk-toggleable {background-color: white;}#sk-container-id-3 label.sk-toggleable__label {cursor: pointer;display: block;width: 100%;margin-bottom: 0;padding: 0.3em;box-sizing: border-box;text-align: center;}#sk-container-id-3 label.sk-toggleable__label-arrow:before {content: \"▸\";float: left;margin-right: 0.25em;color: #696969;}#sk-container-id-3 label.sk-toggleable__label-arrow:hover:before {color: black;}#sk-container-id-3 div.sk-estimator:hover label.sk-toggleable__label-arrow:before {color: black;}#sk-container-id-3 div.sk-toggleable__content {max-height: 0;max-width: 0;overflow: hidden;text-align: left;background-color: #f0f8ff;}#sk-container-id-3 div.sk-toggleable__content pre {margin: 0.2em;color: black;border-radius: 0.25em;background-color: #f0f8ff;}#sk-container-id-3 input.sk-toggleable__control:checked~div.sk-toggleable__content {max-height: 200px;max-width: 100%;overflow: auto;}#sk-container-id-3 input.sk-toggleable__control:checked~label.sk-toggleable__label-arrow:before {content: \"▾\";}#sk-container-id-3 div.sk-estimator input.sk-toggleable__control:checked~label.sk-toggleable__label {background-color: #d4ebff;}#sk-container-id-3 div.sk-label input.sk-toggleable__control:checked~label.sk-toggleable__label {background-color: #d4ebff;}#sk-container-id-3 input.sk-hidden--visually {border: 0;clip: rect(1px 1px 1px 1px);clip: rect(1px, 1px, 1px, 1px);height: 1px;margin: -1px;overflow: hidden;padding: 0;position: absolute;width: 1px;}#sk-container-id-3 div.sk-estimator {font-family: monospace;background-color: #f0f8ff;border: 1px dotted black;border-radius: 0.25em;box-sizing: border-box;margin-bottom: 0.5em;}#sk-container-id-3 div.sk-estimator:hover {background-color: #d4ebff;}#sk-container-id-3 div.sk-parallel-item::after {content: \"\";width: 100%;border-bottom: 1px solid gray;flex-grow: 1;}#sk-container-id-3 div.sk-label:hover label.sk-toggleable__label {background-color: #d4ebff;}#sk-container-id-3 div.sk-serial::before {content: \"\";position: absolute;border-left: 1px solid gray;box-sizing: border-box;top: 0;bottom: 0;left: 50%;z-index: 0;}#sk-container-id-3 div.sk-serial {display: flex;flex-direction: column;align-items: center;background-color: white;padding-right: 0.2em;padding-left: 0.2em;position: relative;}#sk-container-id-3 div.sk-item {position: relative;z-index: 1;}#sk-container-id-3 div.sk-parallel {display: flex;align-items: stretch;justify-content: center;background-color: white;position: relative;}#sk-container-id-3 div.sk-item::before, #sk-container-id-3 div.sk-parallel-item::before {content: \"\";position: absolute;border-left: 1px solid gray;box-sizing: border-box;top: 0;bottom: 0;left: 50%;z-index: -1;}#sk-container-id-3 div.sk-parallel-item {display: flex;flex-direction: column;z-index: 1;position: relative;background-color: white;}#sk-container-id-3 div.sk-parallel-item:first-child::after {align-self: flex-end;width: 50%;}#sk-container-id-3 div.sk-parallel-item:last-child::after {align-self: flex-start;width: 50%;}#sk-container-id-3 div.sk-parallel-item:only-child::after {width: 0;}#sk-container-id-3 div.sk-dashed-wrapped {border: 1px dashed gray;margin: 0 0.4em 0.5em 0.4em;box-sizing: border-box;padding-bottom: 0.4em;background-color: white;}#sk-container-id-3 div.sk-label label {font-family: monospace;font-weight: bold;display: inline-block;line-height: 1.2em;}#sk-container-id-3 div.sk-label-container {text-align: center;}#sk-container-id-3 div.sk-container {/* jupyter's `normalize.less` sets `[hidden] { display: none; }` but bootstrap.min.css set `[hidden] { display: none !important; }` so we also need the `!important` here to be able to override the default hidden behavior on the sphinx rendered scikit-learn.org. See: https://github.com/scikit-learn/scikit-learn/issues/21755 */display: inline-block !important;position: relative;}#sk-container-id-3 div.sk-text-repr-fallback {display: none;}</style><div id=\"sk-container-id-3\" class=\"sk-top-container\"><div class=\"sk-text-repr-fallback\"><pre>RandomForestClassifier(n_estimators=300)</pre><b>In a Jupyter environment, please rerun this cell to show the HTML representation or trust the notebook. <br />On GitHub, the HTML representation is unable to render, please try loading this page with nbviewer.org.</b></div><div class=\"sk-container\" hidden><div class=\"sk-item\"><div class=\"sk-estimator sk-toggleable\"><input class=\"sk-toggleable__control sk-hidden--visually\" id=\"sk-estimator-id-3\" type=\"checkbox\" checked><label for=\"sk-estimator-id-3\" class=\"sk-toggleable__label sk-toggleable__label-arrow\">RandomForestClassifier</label><div class=\"sk-toggleable__content\"><pre>RandomForestClassifier(n_estimators=300)</pre></div></div></div></div></div>"
      ],
      "text/plain": [
       "RandomForestClassifier(n_estimators=300)"
      ]
     },
     "execution_count": 61,
     "metadata": {},
     "output_type": "execute_result"
    }
   ],
   "source": [
    "# Assuming train_static_0 contains your data\n",
    "# Splitting data into train and test sets\n",
    "# X_train, X_test, y_train, y_test = train_test_split(train_d_df.drop('target'), train_d_df['target'], test_size=0.2, random_state=42\n",
    "from sklearn.ensemble import RandomForestClassifier\n",
    "\n",
    "# Assuming you have your data X and y ready\n",
    "\n",
    "# Initialize Random Forest classifier\n",
    "clf = RandomForestClassifier(n_estimators=300)\n",
    "\n",
    "# Fit the classifier to your data\n",
    "clf.fit(X_train, y_train)"
   ]
  },
  {
   "cell_type": "code",
   "execution_count": 62,
   "id": "cc6322c7",
   "metadata": {
    "execution": {
     "iopub.execute_input": "2024-05-11T13:03:49.928345Z",
     "iopub.status.busy": "2024-05-11T13:03:49.927951Z",
     "iopub.status.idle": "2024-05-11T13:03:49.958064Z",
     "shell.execute_reply": "2024-05-11T13:03:49.956710Z"
    },
    "papermill": {
     "duration": 0.062306,
     "end_time": "2024-05-11T13:03:49.961364",
     "exception": false,
     "start_time": "2024-05-11T13:03:49.899058",
     "status": "completed"
    },
    "tags": []
   },
   "outputs": [],
   "source": [
    "y_pred2 = clf.predict_proba(X_test)"
   ]
  },
  {
   "cell_type": "code",
   "execution_count": 63,
   "id": "16066290",
   "metadata": {
    "execution": {
     "iopub.execute_input": "2024-05-11T13:03:50.020954Z",
     "iopub.status.busy": "2024-05-11T13:03:50.020501Z",
     "iopub.status.idle": "2024-05-11T13:03:50.026550Z",
     "shell.execute_reply": "2024-05-11T13:03:50.025382Z"
    },
    "papermill": {
     "duration": 0.040502,
     "end_time": "2024-05-11T13:03:50.029370",
     "exception": false,
     "start_time": "2024-05-11T13:03:49.988868",
     "status": "completed"
    },
    "tags": []
   },
   "outputs": [],
   "source": [
    "y_pred = []\n",
    "for i in range(len(y_pred1)):\n",
    "    y_pred.append((y_pred1[:, 1][i] + y_pred2[:, 1][i])/2)"
   ]
  },
  {
   "cell_type": "code",
   "execution_count": 64,
   "id": "39c3ea16",
   "metadata": {
    "execution": {
     "iopub.execute_input": "2024-05-11T13:03:50.087330Z",
     "iopub.status.busy": "2024-05-11T13:03:50.086885Z",
     "iopub.status.idle": "2024-05-11T13:03:50.091121Z",
     "shell.execute_reply": "2024-05-11T13:03:50.090225Z"
    },
    "papermill": {
     "duration": 0.035588,
     "end_time": "2024-05-11T13:03:50.093425",
     "exception": false,
     "start_time": "2024-05-11T13:03:50.057837",
     "status": "completed"
    },
    "tags": []
   },
   "outputs": [],
   "source": [
    "# label_probabilities = y_pred[:, 1]"
   ]
  },
  {
   "cell_type": "code",
   "execution_count": 65,
   "id": "4056c49e",
   "metadata": {
    "execution": {
     "iopub.execute_input": "2024-05-11T13:03:50.152129Z",
     "iopub.status.busy": "2024-05-11T13:03:50.151169Z",
     "iopub.status.idle": "2024-05-11T13:03:50.157402Z",
     "shell.execute_reply": "2024-05-11T13:03:50.156532Z"
    },
    "papermill": {
     "duration": 0.038344,
     "end_time": "2024-05-11T13:03:50.159831",
     "exception": false,
     "start_time": "2024-05-11T13:03:50.121487",
     "status": "completed"
    },
    "tags": []
   },
   "outputs": [],
   "source": [
    "# majority_downsampled = resample(\n",
    "#                                 majority_class,\n",
    "#                                 replace=False,\n",
    "#                                 n_samples=len(minority_class),\n",
    "#                                 random_state=13\n",
    "#                                )\n",
    "\n",
    "# train_d_df = pl.concat([majority_downsampled, minority_class])\n",
    "\n",
    "# train_d_df = train_d_df.sample(fraction=1, seed=42)\n",
    "\n",
    "# model = xgb.XGBClassifier(\n",
    "#     objective='binary:logistic',  # for binary classification\n",
    "#     eval_metric='logloss'       # Evaluation metric\n",
    "# )\n",
    "\n",
    "# # Training the classifier\n",
    "# model.fit(X_train, y_train)\n",
    "\n",
    "# y_pred = model.predict_proba(X_test)\n",
    "# label_probabilities2 = y_pred[:, 1]"
   ]
  },
  {
   "cell_type": "code",
   "execution_count": 66,
   "id": "c9e718d9",
   "metadata": {
    "execution": {
     "iopub.execute_input": "2024-05-11T13:03:50.217597Z",
     "iopub.status.busy": "2024-05-11T13:03:50.217162Z",
     "iopub.status.idle": "2024-05-11T13:03:50.222990Z",
     "shell.execute_reply": "2024-05-11T13:03:50.221733Z"
    },
    "papermill": {
     "duration": 0.037012,
     "end_time": "2024-05-11T13:03:50.225338",
     "exception": false,
     "start_time": "2024-05-11T13:03:50.188326",
     "status": "completed"
    },
    "tags": []
   },
   "outputs": [],
   "source": [
    "# majority_downsampled = resample(\n",
    "#                                 majority_class,\n",
    "#                                 replace=False,\n",
    "#                                 n_samples=len(minority_class),\n",
    "#                                 random_state=0\n",
    "#                                )\n",
    "\n",
    "# train_d_df = pl.concat([majority_downsampled, minority_class])\n",
    "\n",
    "# train_d_df = train_d_df.sample(fraction=1, seed=42)\n",
    "\n",
    "# model = xgb.XGBClassifier(\n",
    "#     objective='binary:logistic',  # for binary classification\n",
    "#     eval_metric='logloss'       # Evaluation metric\n",
    "# )\n",
    "\n",
    "# # Training the classifier\n",
    "# model.fit(X_train, y_train)\n",
    "\n",
    "# y_pred = model.predict_proba(X_test)\n",
    "# label_probabilities3 = y_pred[:, 1]"
   ]
  },
  {
   "cell_type": "code",
   "execution_count": 67,
   "id": "ad6bf787",
   "metadata": {
    "execution": {
     "iopub.execute_input": "2024-05-11T13:03:50.281988Z",
     "iopub.status.busy": "2024-05-11T13:03:50.281533Z",
     "iopub.status.idle": "2024-05-11T13:03:50.287642Z",
     "shell.execute_reply": "2024-05-11T13:03:50.286381Z"
    },
    "papermill": {
     "duration": 0.036922,
     "end_time": "2024-05-11T13:03:50.290060",
     "exception": false,
     "start_time": "2024-05-11T13:03:50.253138",
     "status": "completed"
    },
    "tags": []
   },
   "outputs": [],
   "source": [
    "# majority_downsampled = resample(\n",
    "#                                 majority_class,\n",
    "#                                 replace=False,\n",
    "#                                 n_samples=len(minority_class),\n",
    "#                                 random_state=89\n",
    "#                                )\n",
    "\n",
    "# train_d_df = pl.concat([majority_downsampled, minority_class])\n",
    "\n",
    "# train_d_df = train_d_df.sample(fraction=1, seed=42)\n",
    "\n",
    "# model = xgb.XGBClassifier(\n",
    "#     objective='binary:logistic',  # for binary classification\n",
    "#     eval_metric='logloss'       # Evaluation metric\n",
    "# )\n",
    "\n",
    "# # Training the classifier\n",
    "# model.fit(X_train, y_train)\n",
    "\n",
    "# y_pred = model.predict_proba(X_test)\n",
    "# label_probabilities4 = y_pred[:, 1]"
   ]
  },
  {
   "cell_type": "code",
   "execution_count": 68,
   "id": "a4f723c8",
   "metadata": {
    "execution": {
     "iopub.execute_input": "2024-05-11T13:03:50.347204Z",
     "iopub.status.busy": "2024-05-11T13:03:50.346380Z",
     "iopub.status.idle": "2024-05-11T13:03:50.352077Z",
     "shell.execute_reply": "2024-05-11T13:03:50.351198Z"
    },
    "papermill": {
     "duration": 0.037444,
     "end_time": "2024-05-11T13:03:50.354965",
     "exception": false,
     "start_time": "2024-05-11T13:03:50.317521",
     "status": "completed"
    },
    "tags": []
   },
   "outputs": [],
   "source": [
    "# majority_downsampled = resample(\n",
    "#                                 majority_class,\n",
    "#                                 replace=False,\n",
    "#                                 n_samples=len(minority_class),\n",
    "#                                 random_state=25\n",
    "#                                )\n",
    "\n",
    "# train_d_df = pl.concat([majority_downsampled, minority_class])\n",
    "\n",
    "# train_d_df = train_d_df.sample(fraction=1, seed=42)\n",
    "\n",
    "# model = xgb.XGBClassifier(\n",
    "#     objective='binary:logistic',  # for binary classification\n",
    "#     eval_metric='logloss'       # Evaluation metric\n",
    "# )\n",
    "\n",
    "# # Training the classifier\n",
    "# model.fit(X_train, y_train)\n",
    "\n",
    "# y_pred = model.predict_proba(X_test)\n",
    "# label_probabilities5 = y_pred[:, 1]"
   ]
  },
  {
   "cell_type": "code",
   "execution_count": 69,
   "id": "be584821",
   "metadata": {
    "execution": {
     "iopub.execute_input": "2024-05-11T13:03:50.412229Z",
     "iopub.status.busy": "2024-05-11T13:03:50.411539Z",
     "iopub.status.idle": "2024-05-11T13:03:50.416215Z",
     "shell.execute_reply": "2024-05-11T13:03:50.415304Z"
    },
    "papermill": {
     "duration": 0.036071,
     "end_time": "2024-05-11T13:03:50.418771",
     "exception": false,
     "start_time": "2024-05-11T13:03:50.382700",
     "status": "completed"
    },
    "tags": []
   },
   "outputs": [],
   "source": [
    "# label_probabilities = []\n",
    "# for i in range(len(label_probabilities1)):\n",
    "#     if label_probabilities1[i] > 0.4 and label_probabilities1[i]<0.9:\n",
    "#         label_probabilities.append(label_probabilities1[i]+0.1)\n",
    "#     else:\n",
    "#         label_probabilities.append(label_probabilities1[i])\n"
   ]
  },
  {
   "cell_type": "code",
   "execution_count": 70,
   "id": "4acf768c",
   "metadata": {
    "execution": {
     "iopub.execute_input": "2024-05-11T13:03:50.475209Z",
     "iopub.status.busy": "2024-05-11T13:03:50.474253Z",
     "iopub.status.idle": "2024-05-11T13:03:50.479406Z",
     "shell.execute_reply": "2024-05-11T13:03:50.478058Z"
    },
    "papermill": {
     "duration": 0.036536,
     "end_time": "2024-05-11T13:03:50.482371",
     "exception": false,
     "start_time": "2024-05-11T13:03:50.445835",
     "status": "completed"
    },
    "tags": []
   },
   "outputs": [],
   "source": [
    "# label_probabilities = []\n",
    "# for i in range(len(label_probabilities1)):\n",
    "#     label_probabilities.append(label_probabilities1[i]+label_probabilities2[i]+label_probabilities3[i]+label_probabilities4[i]+label_probabilities5[i])"
   ]
  },
  {
   "cell_type": "code",
   "execution_count": 71,
   "id": "b603afee",
   "metadata": {
    "execution": {
     "iopub.execute_input": "2024-05-11T13:03:50.539008Z",
     "iopub.status.busy": "2024-05-11T13:03:50.538563Z",
     "iopub.status.idle": "2024-05-11T13:03:50.543524Z",
     "shell.execute_reply": "2024-05-11T13:03:50.542167Z"
    },
    "papermill": {
     "duration": 0.035555,
     "end_time": "2024-05-11T13:03:50.545840",
     "exception": false,
     "start_time": "2024-05-11T13:03:50.510285",
     "status": "completed"
    },
    "tags": []
   },
   "outputs": [],
   "source": [
    "# y_pred = model.predict(X_test)"
   ]
  },
  {
   "cell_type": "code",
   "execution_count": 72,
   "id": "a1295362",
   "metadata": {
    "execution": {
     "iopub.execute_input": "2024-05-11T13:03:50.602772Z",
     "iopub.status.busy": "2024-05-11T13:03:50.601587Z",
     "iopub.status.idle": "2024-05-11T13:03:50.627214Z",
     "shell.execute_reply": "2024-05-11T13:03:50.626065Z"
    },
    "papermill": {
     "duration": 0.057155,
     "end_time": "2024-05-11T13:03:50.630357",
     "exception": false,
     "start_time": "2024-05-11T13:03:50.573202",
     "status": "completed"
    },
    "tags": []
   },
   "outputs": [],
   "source": [
    "df = pd.read_csv(dataPath + \"sample_submission.csv\")\n",
    "df = df.set_index(\"case_id\")\n",
    "\n",
    "df[\"score\"] = y_pred"
   ]
  },
  {
   "cell_type": "code",
   "execution_count": 73,
   "id": "d8dd2cb2",
   "metadata": {
    "execution": {
     "iopub.execute_input": "2024-05-11T13:03:50.688214Z",
     "iopub.status.busy": "2024-05-11T13:03:50.687797Z",
     "iopub.status.idle": "2024-05-11T13:03:50.696311Z",
     "shell.execute_reply": "2024-05-11T13:03:50.695396Z"
    },
    "papermill": {
     "duration": 0.040318,
     "end_time": "2024-05-11T13:03:50.698821",
     "exception": false,
     "start_time": "2024-05-11T13:03:50.658503",
     "status": "completed"
    },
    "tags": []
   },
   "outputs": [],
   "source": [
    "df.to_csv(\"./submission.csv\")"
   ]
  },
  {
   "cell_type": "code",
   "execution_count": null,
   "id": "b75a71dd",
   "metadata": {
    "papermill": {
     "duration": 0.026707,
     "end_time": "2024-05-11T13:03:50.752987",
     "exception": false,
     "start_time": "2024-05-11T13:03:50.726280",
     "status": "completed"
    },
    "tags": []
   },
   "outputs": [],
   "source": []
  }
 ],
 "metadata": {
  "kaggle": {
   "accelerator": "none",
   "dataSources": [
    {
     "databundleVersionId": 7921029,
     "sourceId": 50160,
     "sourceType": "competition"
    }
   ],
   "dockerImageVersionId": 30698,
   "isGpuEnabled": false,
   "isInternetEnabled": false,
   "language": "python",
   "sourceType": "notebook"
  },
  "kernelspec": {
   "display_name": "Python 3",
   "language": "python",
   "name": "python3"
  },
  "language_info": {
   "codemirror_mode": {
    "name": "ipython",
    "version": 3
   },
   "file_extension": ".py",
   "mimetype": "text/x-python",
   "name": "python",
   "nbconvert_exporter": "python",
   "pygments_lexer": "ipython3",
   "version": "3.10.13"
  },
  "papermill": {
   "default_parameters": {},
   "duration": 684.379979,
   "end_time": "2024-05-11T13:03:52.610835",
   "environment_variables": {},
   "exception": null,
   "input_path": "__notebook__.ipynb",
   "output_path": "__notebook__.ipynb",
   "parameters": {},
   "start_time": "2024-05-11T12:52:28.230856",
   "version": "2.5.0"
  }
 },
 "nbformat": 4,
 "nbformat_minor": 5
}
